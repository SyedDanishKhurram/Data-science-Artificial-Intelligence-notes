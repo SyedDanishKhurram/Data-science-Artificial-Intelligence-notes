{
 "cells": [
  {
   "cell_type": "markdown",
   "metadata": {
    "id": "gktnM51LVDdO"
   },
   "source": [
    "\n",
    "INTRO TO PANDAS\n",
    "\n",
    "\n",
    "INTRO TO NUMPY + SEABORN + SCIPY\n",
    "\n",
    "**MERGE**\n",
    "\n",
    "**CONCAT**\n",
    "\n",
    "**DROPPING DUPLICATE**\n",
    "\n",
    "**REMOVAL OF NULLS**\n",
    "\n",
    "**FILTERING RECORDiltering records etc) with a real-world dataset**\n",
    "\n",
    "**feature engineering**\n",
    "\n",
    "**NumPy arrays**\n",
    "**some handy functions**\n",
    "\n",
    "**Analytical library**\n",
    "\n",
    "used for plotting graphys\n",
    "\n",
    "**SciPy**\n"
   ]
  },
  {
   "cell_type": "code",
   "execution_count": null,
   "metadata": {
    "id": "z4MpLN5sUoHD"
   },
   "outputs": [],
   "source": []
  },
  {
   "cell_type": "markdown",
   "metadata": {
    "id": "3dvsf0OditjW"
   },
   "source": [
    "#MERGE\n",
    "\n",
    " Merging Data in Programming (e.g., Pandas in Python):\n",
    "In data processing tasks, especially with dataframes or tables, \"merge\" refers to combining rows from two or more tables based on related columns, similar to SQL joins."
   ]
  },
  {
   "cell_type": "code",
   "execution_count": null,
   "metadata": {
    "colab": {
     "base_uri": "https://localhost:8080/"
    },
    "id": "YEXgqfSAivbN",
    "outputId": "2fb438a5-39d1-4a1f-8829-7adda4c303d6"
   },
   "outputs": [
    {
     "name": "stdout",
     "output_type": "stream",
     "text": [
      "    A   B key   C   D\n",
      "0  A0  B0  K0  C0  D0\n",
      "1  A1  B1  K1  C1  D1\n",
      "2  A2  B2  K2  C2  D2\n",
      "3  A3  B3  K3  C3  D3\n"
     ]
    }
   ],
   "source": [
    "import pandas as pd\n",
    "\n",
    "# Sample dataframes\n",
    "df1 = pd.DataFrame({'A': ['A0', 'A1', 'A2', 'A3'],\n",
    "                    'B': ['B0', 'B1', 'B2', 'B3'],\n",
    "                    'key': ['K0', 'K1', 'K2', 'K3']})\n",
    "\n",
    "df2 = pd.DataFrame({'C': ['C0', 'C1', 'C2', 'C3'],\n",
    "                    'D': ['D0', 'D1', 'D2', 'D3'],\n",
    "                    'key': ['K0', 'K1', 'K2', 'K3']})\n",
    "\n",
    "# Merge dataframes using a key\n",
    "result = pd.merge(df1, df2, on='key')\n",
    "print(result)\n"
   ]
  },
  {
   "cell_type": "markdown",
   "metadata": {
    "id": "kKm-BvEcjNmO"
   },
   "source": [
    "#Concat\n",
    "\"Concat\" is short for \"concatenate,\" which means to link or combine things, especially sequences, in a chain or series. In the context of programming and data processing, it often refers to joining strings, arrays, lists, or other data structures. Here's how \"concat\" can be understood in various programming contexts"
   ]
  },
  {
   "cell_type": "code",
   "execution_count": null,
   "metadata": {
    "colab": {
     "base_uri": "https://localhost:8080/"
    },
    "id": "JsKCOgBbj4zK",
    "outputId": "3161b447-7ca5-4b75-e73a-acc0c5ed95ba"
   },
   "outputs": [
    {
     "name": "stdout",
     "output_type": "stream",
     "text": [
      "Hello, World!\n"
     ]
    }
   ],
   "source": [
    "string1 = \"Hello, \"\n",
    "string2 = \"World!\"\n",
    "result = string1 + string2\n",
    "print(result)\n",
    "#we can use this also in list/arrays\n"
   ]
  },
  {
   "cell_type": "markdown",
   "metadata": {
    "id": "w2a6SAHRkM1-"
   },
   "source": [
    "In the Pandas library in Python, which is used for data manipulation, the concat function can join multiple dataframes."
   ]
  },
  {
   "cell_type": "code",
   "execution_count": null,
   "metadata": {
    "colab": {
     "base_uri": "https://localhost:8080/"
    },
    "id": "2uw2R2cdkIAc",
    "outputId": "25b9986a-c566-4871-b270-7ee5b6245d3a"
   },
   "outputs": [
    {
     "name": "stdout",
     "output_type": "stream",
     "text": [
      "    A   B\n",
      "0  A0  B0\n",
      "1  A1  B1\n",
      "2  A2  B2\n",
      "3  A3  B3\n"
     ]
    }
   ],
   "source": [
    "import pandas as pd\n",
    "\n",
    "df1 = pd.DataFrame({'A': ['A0', 'A1'], 'B': ['B0', 'B1']})\n",
    "df2 = pd.DataFrame({'A': ['A2', 'A3'], 'B': ['B2', 'B3']})\n",
    "\n",
    "result = pd.concat([df1, df2], ignore_index=True)\n",
    "print(result)"
   ]
  },
  {
   "cell_type": "markdown",
   "metadata": {
    "id": "uqZw3wJDlVl8"
   },
   "source": [
    "#dropping duplicates\n",
    "In the Pandas library, which is widely used for data manipulation in Python, the drop_duplicates method is available for DataFrame and Series objects to remove duplicate rows."
   ]
  },
  {
   "cell_type": "code",
   "execution_count": null,
   "metadata": {
    "colab": {
     "base_uri": "https://localhost:8080/"
    },
    "id": "riYyXEjRkZ4c",
    "outputId": "78d7cf49-e469-49a2-b36d-854a57778b2e"
   },
   "outputs": [
    {
     "name": "stdout",
     "output_type": "stream",
     "text": [
      "   A  B\n",
      "0  1  5\n",
      "1  2  6\n",
      "3  3  7\n",
      "4  4  8\n"
     ]
    }
   ],
   "source": [
    "import pandas as pd\n",
    "\n",
    "# Sample DataFrame\n",
    "df = pd.DataFrame({\n",
    "    'A': [1, 2, 2, 3, 4, 4],\n",
    "    'B': [5, 6, 6, 7, 8, 8]\n",
    "})\n",
    "\n",
    "# Drop duplicate rows\n",
    "df_no_duplicates = df.drop_duplicates()\n",
    "\n",
    "# If you want to drop duplicates based on a specific column\n",
    "df_no_duplicates_based_on_A = df.drop_duplicates(subset='A', keep='first')\n",
    "print(df_no_duplicates_based_on_A)"
   ]
  },
  {
   "cell_type": "markdown",
   "metadata": {
    "id": "H7NK8JEomyxV"
   },
   "source": [
    "**For List**\n",
    "\n",
    "For simple lists in Python, you can use sets or list comprehensions to remove duplicates."
   ]
  },
  {
   "cell_type": "code",
   "execution_count": null,
   "metadata": {
    "colab": {
     "base_uri": "https://localhost:8080/"
    },
    "id": "Qt6FQB8Dmyic",
    "outputId": "f3da8643-e5d8-43ad-e994-11f2891047cb"
   },
   "outputs": [
    {
     "data": {
      "text/plain": [
       "[None, None, None, None]"
      ]
     },
     "execution_count": 7,
     "metadata": {},
     "output_type": "execute_result"
    }
   ],
   "source": [
    "# Using sets (only works if order doesn't matter)\n",
    "my_list = [1, 2, 2, 3, 3, 3, 4, 4]\n",
    "unique_list = list(set(my_list))\n",
    "\n",
    "# Using list comprehension (preserves order)\n",
    "unique_list_ordered = []\n",
    "[unique_list_ordered.append(x) for x in my_list if x not in unique_list_ordered]\n"
   ]
  },
  {
   "cell_type": "markdown",
   "metadata": {
    "id": "BZuRtGrloCnt"
   },
   "source": [
    "#REMOVAL OF NULLS\n",
    "\n",
    "Data preparation involves removing null values (or missing values) from your data, which is a crucial step. Null values can affect machine learning algorithms, skew statistics, and overall produce incorrect results. Here's how to handle null values in various situations.\n",
    "\n",
    "**List**\n",
    "\n",
    "In Pandas, you can use the dropna() method to remove rows or columns with null values from a DataFrame.\n",
    "\n"
   ]
  },
  {
   "cell_type": "code",
   "execution_count": null,
   "metadata": {
    "colab": {
     "base_uri": "https://localhost:8080/"
    },
    "id": "Gizx9PmomEss",
    "outputId": "f263b4bb-b37e-467e-eeb0-8773a33b79ac"
   },
   "outputs": [
    {
     "name": "stdout",
     "output_type": "stream",
     "text": [
      "     A    B\n",
      "0  1.0  5.0\n",
      "1  2.0  0.0\n",
      "2  0.0  7.0\n",
      "3  4.0  8.0\n"
     ]
    }
   ],
   "source": [
    "import pandas as pd\n",
    "\n",
    "# Sample DataFrame\n",
    "data = {'A': [1, 2, None, 4],\n",
    "        'B': [5, None, 7, 8]}\n",
    "\n",
    "df = pd.DataFrame(data)\n",
    "\n",
    "# Drop rows with any null values\n",
    "df_no_null_rows = df.dropna()\n",
    "\n",
    "# Drop columns with any null values\n",
    "df_no_null_columns = df.dropna(axis=1)\n",
    "\n",
    "# Fill null values with a specified value, for example, 0\n",
    "df_filled = df.fillna(0)\n",
    "print(df_filled)"
   ]
  },
  {
   "cell_type": "markdown",
   "metadata": {
    "id": "tlG5_7dsqnod"
   },
   "source": [
    "#FILTERING RECORD\n",
    "filtering records etc with a real-world dataset\n",
    "(With real world data it is way harder since its way congusted)\n",
    "\n",
    "Selecting a portion of your data based on specified criteria is known as filtering records. This operation is essential to data analysis since it enables more focused study on particular data segments. Here's how to filter records in different situations."
   ]
  },
  {
   "cell_type": "code",
   "execution_count": null,
   "metadata": {
    "colab": {
     "base_uri": "https://localhost:8080/"
    },
    "id": "liVUB6SQqHdI",
    "outputId": "37f60990-49ff-4486-aeb5-bc42a73b919a"
   },
   "outputs": [
    {
     "name": "stdout",
     "output_type": "stream",
     "text": [
      "   A   B\n",
      "2  3  30\n",
      "3  4  40\n"
     ]
    }
   ],
   "source": [
    "import pandas as pd\n",
    "\n",
    "# Sample DataFrame\n",
    "data = {'A': [1, 2, 3, 4, 5],\n",
    "        'B': [10, 20, 30, 40, 50]}\n",
    "\n",
    "df = pd.DataFrame(data)\n",
    "\n",
    "# Filter rows where 'A' is greater than 2\n",
    "filtered_df = df[df['A'] > 2]\n",
    "\n",
    "# Filter rows where 'A' is greater than 2 and 'B' is less than 50\n",
    "filtered_df = df[(df['A'] > 2) & (df['B'] < 50)]\n",
    "print(filtered_df)\n"
   ]
  },
  {
   "cell_type": "markdown",
   "metadata": {
    "id": "w0Hbr6jat1od"
   },
   "source": [
    "#feature engineering\n",
    "\n",
    "Feature engineering is a crucial step in the data preprocessing phase for machine learning and statistical modeling. It refers to the process of creating new features (variables) or transforming existing ones to improve model performance. Good feature engineering can enhance a model's accuracy, generalization capability, and interpretability\n",
    "\n",
    "(It does not have any code structure)"
   ]
  },
  {
   "cell_type": "code",
   "execution_count": null,
   "metadata": {
    "id": "NBKu8LDVrnHp"
   },
   "outputs": [],
   "source": []
  },
  {
   "cell_type": "markdown",
   "metadata": {
    "id": "Kg8Ke47PMuKg"
   },
   "source": [
    "#NumPy arrays some handy functions\n",
    "**NumPy**\n",
    "The Python library known as NumPy, or \"Numerical Python,\" supports huge, multi-dimensional arrays and matrices of numerical data and offers a wide range of mathematical operations that may be performed on these arrays. The cornerstone for many other libraries and frameworks in the data science ecosystem, NumPy is a key toolkit for scientific computing and data analysis in Python.\n",
    "\n",
    "NumPy, or numeric data manipulation, is a powerful tool for activities like mathematical computations, data analysis, and scientific research. It is a Python library, to put it simply.\n",
    "\n",
    "**Array Creation Functions:**\n",
    "\n",
    "numpy.array(): Create an array from a Python list or other iterable.\n",
    "\n",
    "numpy.zeros(): Create an array filled with zeros.\n",
    "\n",
    "numpy.ones(): Create an array filled with ones.\n",
    "\n",
    "numpy.empty(): Create an uninitialized array.\n",
    "\n",
    "numpy.arange(): Create an array with regularly spaced values.\n",
    "\n",
    "numpy.linspace(): Create an array with evenly spaced values.\n",
    "\n",
    "numpy.random: A submodule for generating random numbers and arrays.\n",
    "\n",
    "\n",
    "For Reshapping the shape and dimensions\n",
    "we use .reshape()\n",
    "\n",
    "And to use in statistic aggregation we will be using   np.mean(), np.median(), np.std(), and others."
   ]
  },
  {
   "cell_type": "code",
   "execution_count": null,
   "metadata": {
    "id": "TXePuHvTN8Fy"
   },
   "outputs": [],
   "source": [
    "arr1 = np.array([1, 2, 3, 4, 5])   # Create a 1D array\n",
    "arr2 = np.arange(0, 10, 2)         # Create a 1D array with values [0, 2, 4, 6, 8]\n",
    "arr3 = np.zeros((2, 3))            # Create a 2D array filled with zeros\n",
    "arr4 = np.ones((3, 2))             # Create a 2D array filled with ones"
   ]
  },
  {
   "cell_type": "code",
   "execution_count": null,
   "metadata": {
    "id": "boq5fvTjXvPN"
   },
   "outputs": [],
   "source": [
    "import numpy as np"
   ]
  },
  {
   "cell_type": "code",
   "execution_count": null,
   "metadata": {
    "colab": {
     "base_uri": "https://localhost:8080/"
    },
    "id": "V0lfRI8AYtRu",
    "outputId": "d952e088-779f-476f-f97b-d7dab624041e"
   },
   "outputs": [
    {
     "data": {
      "text/plain": [
       "4"
      ]
     },
     "execution_count": 4,
     "metadata": {},
     "output_type": "execute_result"
    }
   ],
   "source": [
    "np.sum([1,3])"
   ]
  },
  {
   "cell_type": "code",
   "execution_count": null,
   "metadata": {
    "colab": {
     "base_uri": "https://localhost:8080/"
    },
    "id": "f99T-5roY7z8",
    "outputId": "64e2af54-56af-4412-b694-52f1a90bc21e"
   },
   "outputs": [
    {
     "name": "stdout",
     "output_type": "stream",
     "text": [
      "Before Adding 5\n",
      "[[1 2 3]\n",
      " [4 5 6]\n",
      " [7 8 9]]\n",
      "\n",
      "After Adding 5\n",
      "[[ 6  7  8]\n",
      " [ 9 10 11]\n",
      " [12 13 14]]\n"
     ]
    }
   ],
   "source": [
    "# Two Dimension list adding value 5\n",
    "\n",
    "a = np.array([[1,2,3],\n",
    "              [4,5,6],\n",
    "              [7,8,9]])\n",
    "\n",
    "print(\"Before Adding 5\")\n",
    "print(a)\n",
    "print()\n",
    "for r, rd in list(enumerate(a)): #------------> loop\n",
    "    for c, cd in list(enumerate(rd)):\n",
    "        a[r][c] = a[r][c] + 5\n",
    "\n",
    "print(\"After Adding 5\")\n",
    "print(a)"
   ]
  },
  {
   "cell_type": "markdown",
   "metadata": {
    "id": "Qfbo0QP3Z-Eu"
   },
   "source": [
    "Here **enumerate** is a built-in function that allows you to iterate over an iterable (such as a list, tuple, or string) while keeping track of the index (position) of the current item within the iterable. It is often used in for loops to simultaneously access both the index and the value of each element in the iterable.\n"
   ]
  },
  {
   "cell_type": "code",
   "execution_count": null,
   "metadata": {
    "id": "h__40jlXZY5k"
   },
   "outputs": [],
   "source": [
    "enumerate(iterable, start=0)\n"
   ]
  },
  {
   "cell_type": "markdown",
   "metadata": {
    "id": "LklH9i5YaNql"
   },
   "source": [
    "iterable: The iterable you want to loop through while enumerating.\n",
    "\n",
    "start (optional): An integer specifying the starting value of the index. By default, it starts at 0."
   ]
  },
  {
   "cell_type": "code",
   "execution_count": null,
   "metadata": {
    "colab": {
     "base_uri": "https://localhost:8080/"
    },
    "id": "7ZiPQhmXaOjU",
    "outputId": "1ff0da53-7b00-4b9b-ea7c-d1d4e051bb35"
   },
   "outputs": [
    {
     "data": {
      "text/plain": [
       "array([[ 6,  7,  8],\n",
       "       [ 9, 10, 11],\n",
       "       [12, 13, 14]])"
      ]
     },
     "execution_count": 10,
     "metadata": {},
     "output_type": "execute_result"
    }
   ],
   "source": [
    "a = np.arange(1,10).reshape((3,3))\n",
    "a = a+5\n",
    "a"
   ]
  },
  {
   "cell_type": "code",
   "execution_count": null,
   "metadata": {
    "colab": {
     "base_uri": "https://localhost:8080/"
    },
    "id": "76tDKgbVafth",
    "outputId": "c984f116-ce9f-4bf3-a688-bcef6a7941d4"
   },
   "outputs": [
    {
     "data": {
      "text/plain": [
       "array([[0., 0., 0.],\n",
       "       [0., 0., 0.]])"
      ]
     },
     "execution_count": 12,
     "metadata": {},
     "output_type": "execute_result"
    }
   ],
   "source": [
    "zeros_array = np.zeros((2, 3))\n",
    "zeros_array"
   ]
  },
  {
   "cell_type": "code",
   "execution_count": null,
   "metadata": {
    "colab": {
     "base_uri": "https://localhost:8080/"
    },
    "id": "EKeSJiR7ccck",
    "outputId": "7d36f6a5-2177-4575-a2bb-f9617cf77892"
   },
   "outputs": [
    {
     "data": {
      "text/plain": [
       "array([[1., 1.],\n",
       "       [1., 1.],\n",
       "       [1., 1.]])"
      ]
     },
     "execution_count": 14,
     "metadata": {},
     "output_type": "execute_result"
    }
   ],
   "source": [
    "ones_array = np.ones((3, 2))\n",
    "ones_array"
   ]
  },
  {
   "cell_type": "markdown",
   "metadata": {
    "id": "bf24uZDAdftt"
   },
   "source": [
    "**for empty numpy**\n",
    "\n",
    "this is the structure\n",
    "\n",
    "```\n",
    "# numpy.empty(shape, dtype=float, order='C')\n",
    "```\n",
    "**shape:** A tuple specifying the shape of the array (e.g., (rows, columns)).\n",
    "\n",
    "**dtype (optional):** The data type of the elements in the array. The default is float.\n",
    "\n",
    "**order (optional):** Specifies whether the array is stored in row-major order ('C') or column-major order ('F'). The default is 'C'.\n",
    "\n",
    "\n"
   ]
  },
  {
   "cell_type": "code",
   "execution_count": null,
   "metadata": {
    "colab": {
     "base_uri": "https://localhost:8080/"
    },
    "id": "5zr4HUWQc0dk",
    "outputId": "2eaf1f39-ec1c-4b39-c727-981bff604462"
   },
   "outputs": [
    {
     "name": "stdout",
     "output_type": "stream",
     "text": [
      "[[1. 1. 1.]\n",
      " [1. 1. 1.]]\n"
     ]
    }
   ],
   "source": [
    "\n",
    "# Create an empty 2x3 array of float64 values\n",
    "empty_array = np.empty((2, 3), dtype=np.float64)\n",
    "\n",
    "# The empty_array may contain unpredictable values\n",
    "print(empty_array)\n"
   ]
  },
  {
   "cell_type": "code",
   "execution_count": null,
   "metadata": {
    "colab": {
     "base_uri": "https://localhost:8080/"
    },
    "id": "fskYlkx7dLnc",
    "outputId": "75648d2f-e8e1-4717-8fcd-1b0ca5fc11f8"
   },
   "outputs": [
    {
     "name": "stdout",
     "output_type": "stream",
     "text": [
      "[0.         0.33333333 0.66666667 1.        ]\n"
     ]
    }
   ],
   "source": [
    "\n",
    "# Create an array of 10 evenly spaced values from 0 to 1 (inclusive)\n",
    "linspace_array = np.linspace(0, 1, num=4)\n",
    "\n",
    "# Print the resulting array\n",
    "print(linspace_array)\n"
   ]
  },
  {
   "cell_type": "markdown",
   "metadata": {
    "id": "0VZ1HBEfl7F-"
   },
   "source": []
  },
  {
   "cell_type": "code",
   "execution_count": null,
   "metadata": {
    "colab": {
     "base_uri": "https://localhost:8080/"
    },
    "id": "AQvb0gjHeoQY",
    "outputId": "e5c41a2e-1e88-4363-b86e-7981f0838b53"
   },
   "outputs": [
    {
     "name": "stdout",
     "output_type": "stream",
     "text": [
      "6\n",
      "(2, 3, 3, 4, 5, 5)\n"
     ]
    },
    {
     "data": {
      "text/plain": [
       "array([[[[[[-1.75989220e-01, -5.65417744e-01, -6.33795526e-01,\n",
       "             1.36131024e+00, -9.46169269e-01],\n",
       "           [ 9.13727058e-01,  7.30639410e-01,  1.01283819e+00,\n",
       "             8.67176362e-01,  1.75631955e+00],\n",
       "           [ 9.43968331e-01,  2.14280586e+00, -6.41376263e-01,\n",
       "            -6.86736875e-03,  8.70996042e-01],\n",
       "           [-1.42214729e+00, -2.37401966e-01, -5.88596353e-01,\n",
       "            -3.05288016e-01,  4.20905865e-01],\n",
       "           [ 4.71489922e-01, -1.53340830e+00, -4.55282167e-01,\n",
       "             9.61514300e-01, -4.84166207e-01]],\n",
       "\n",
       "          [[-3.55662833e-01,  9.44342403e-01,  6.81388588e-01,\n",
       "            -1.08295280e+00,  4.14730473e-01],\n",
       "           [ 5.25381693e-01, -1.05202521e+00,  3.59443611e-03,\n",
       "             2.60177676e-01, -1.63321186e+00],\n",
       "           [-3.58779340e-01, -3.06537469e-02,  4.43213302e-01,\n",
       "             3.11742131e-01, -1.34445096e+00],\n",
       "           [ 5.41019190e-01, -2.33776578e+00,  7.52653884e-01,\n",
       "             9.42186310e-02, -3.14062608e-01],\n",
       "           [ 3.57982535e-02, -3.46612695e-01, -1.40717825e+00,\n",
       "            -2.73234337e-01, -1.07614193e+00]],\n",
       "\n",
       "          [[ 7.05318579e-02, -2.29729498e-01,  1.59643829e+00,\n",
       "             9.21109962e-01, -2.54426705e-01],\n",
       "           [-1.42172022e+00,  6.28721763e-01,  1.59130499e+00,\n",
       "             5.42847642e-01,  4.43687317e-01],\n",
       "           [ 6.12247518e-01, -1.03425270e-01, -5.80556627e-01,\n",
       "            -1.17877088e+00,  5.79020888e-01],\n",
       "           [-8.29456806e-02, -5.54229417e-01,  2.86236006e-01,\n",
       "            -5.37597431e-01,  8.83617681e-01],\n",
       "           [-5.49499098e-01,  5.80032875e-02, -2.38226505e-01,\n",
       "             3.41529704e-01, -2.63150792e-01]],\n",
       "\n",
       "          [[-8.20476095e-01, -9.19671979e-01,  7.01521898e-02,\n",
       "             1.99972767e+00,  4.87733608e-01],\n",
       "           [ 9.56996051e-01,  2.80586790e-02, -9.31693889e-03,\n",
       "             1.71839871e-01, -2.26911267e-01],\n",
       "           [ 7.39076549e-01,  1.12391028e-01,  1.87014167e+00,\n",
       "            -1.37601060e+00, -9.48304996e-01],\n",
       "           [ 5.20344152e-01, -1.58882870e+00,  1.98999104e+00,\n",
       "            -5.10024028e-01,  2.83610765e+00],\n",
       "           [-2.46304138e-01,  3.32163289e-01,  6.10349003e-02,\n",
       "             3.68915231e-02,  8.50410402e-01]]],\n",
       "\n",
       "\n",
       "         [[[ 1.11508294e+00, -9.38256857e-01,  9.48788535e-01,\n",
       "            -1.51845753e+00, -1.28318908e+00],\n",
       "           [-5.70542835e-01, -1.48114842e+00,  1.54980115e+00,\n",
       "             9.37171269e-01, -5.92393168e-01],\n",
       "           [ 1.35588172e+00,  1.61407956e+00,  5.09938158e-01,\n",
       "            -1.76734440e+00, -3.37761235e-01],\n",
       "           [ 1.76609663e+00, -1.57616730e+00,  3.69201806e-02,\n",
       "             3.25891308e-01, -5.09456383e-01],\n",
       "           [-1.88528509e+00,  4.03979440e-01,  5.77503389e-01,\n",
       "             1.20695579e+00, -1.85914132e+00]],\n",
       "\n",
       "          [[-4.72885106e-01,  1.22591703e+00,  5.09692182e-03,\n",
       "            -9.41027110e-01,  1.85929444e-01],\n",
       "           [ 4.28253791e-02,  1.29044677e-01, -1.14621388e+00,\n",
       "            -2.52150137e-01, -1.69858653e-01],\n",
       "           [ 1.07710463e+00,  1.26971245e+00, -1.40681199e-01,\n",
       "            -5.26931266e-01,  1.21868758e+00],\n",
       "           [ 2.40688839e+00, -6.07801226e-01, -5.80172007e-01,\n",
       "            -1.25476934e+00,  3.30796730e-01],\n",
       "           [-1.46615211e+00, -5.96317644e-01, -6.98559437e-01,\n",
       "             3.62994617e-01, -9.11321785e-01]],\n",
       "\n",
       "          [[ 1.64904825e+00,  8.64514872e-01,  1.91749021e+00,\n",
       "            -5.25742489e-01, -1.27223785e+00],\n",
       "           [ 1.68266740e+00,  9.63566739e-01, -7.05566875e-01,\n",
       "            -1.01596067e+00, -9.10461705e-01],\n",
       "           [-6.42541849e-01, -6.77925278e-01,  1.19801289e+00,\n",
       "            -1.99659149e-01,  3.74439103e-01],\n",
       "           [ 7.83755565e-04,  1.00850004e+00, -1.52406777e-01,\n",
       "            -7.20309749e-01,  1.50410055e+00],\n",
       "           [ 4.36969183e-01,  1.14014751e+00,  3.23798926e-01,\n",
       "            -1.03173661e+00, -2.03155194e-01]],\n",
       "\n",
       "          [[-3.43560177e-01, -2.42624029e+00, -4.10074407e-01,\n",
       "            -9.21581919e-01, -1.52550782e+00],\n",
       "           [ 4.77794669e-01,  7.91749949e-01,  2.60324793e-01,\n",
       "            -9.98142464e-01, -5.54449008e-01],\n",
       "           [ 1.10599089e+00, -1.17271027e+00,  1.34047465e+00,\n",
       "            -1.06698969e+00,  5.28156366e-01],\n",
       "           [-1.29098475e-01, -9.29958316e-01,  2.41873719e-01,\n",
       "             1.69818347e+00,  1.18681316e+00],\n",
       "           [ 1.72469833e+00,  1.09270749e-03,  9.06493336e-01,\n",
       "             5.27512348e-01, -4.95187101e-01]]],\n",
       "\n",
       "\n",
       "         [[[ 4.44782254e-01, -5.82755253e-01, -5.60341808e-02,\n",
       "             5.89414777e-02,  1.31960056e+00],\n",
       "           [-8.64295688e-01, -1.68634362e+00, -1.04618292e+00,\n",
       "             7.45578348e-01,  1.08502746e+00],\n",
       "           [ 1.10401059e+00,  9.68179163e-01, -1.93286629e+00,\n",
       "             2.85917937e-01, -1.83737351e+00],\n",
       "           [-1.27132466e+00,  1.57776144e+00,  8.25930565e-01,\n",
       "             4.29280377e-01, -3.37696456e-01],\n",
       "           [-1.61262559e-01, -2.73452402e-01,  2.56248135e-01,\n",
       "             2.41024202e-01,  4.27853301e-01]],\n",
       "\n",
       "          [[ 2.31029604e-02,  6.56673602e-01,  6.65843814e-01,\n",
       "             1.75165350e+00, -1.32830667e+00],\n",
       "           [ 5.82207619e-01, -3.08131341e+00, -1.67903746e+00,\n",
       "             1.33462488e+00, -2.57068750e-01],\n",
       "           [ 5.76069982e-02,  1.86823228e-01, -1.83028922e-01,\n",
       "            -2.10196500e-01, -1.42044040e+00],\n",
       "           [-1.85139047e+00, -1.05897476e+00, -2.31673026e-01,\n",
       "            -4.30949254e-01,  6.34117998e-01],\n",
       "           [ 9.11971504e-01, -1.79061173e+00,  1.88061023e+00,\n",
       "             2.11622744e-01, -4.81877010e-02]],\n",
       "\n",
       "          [[ 1.20507067e+00, -1.00935991e+00, -8.41863718e-01,\n",
       "             2.47589193e+00,  3.87017641e-01],\n",
       "           [ 1.52518627e+00, -2.70447763e-01, -3.16918236e-01,\n",
       "             3.27047244e-01, -1.78454848e-01],\n",
       "           [-4.62606926e-01,  3.27230559e-02, -9.65470028e-01,\n",
       "            -3.76338200e-01, -9.67322819e-02],\n",
       "           [-1.57012950e+00, -1.72212436e+00, -9.81728180e-02,\n",
       "             1.23579816e+00,  1.46994683e+00],\n",
       "           [ 1.05419724e+00,  3.74315535e-01,  1.42412550e-02,\n",
       "            -1.21174842e+00, -6.46740103e-01]],\n",
       "\n",
       "          [[-9.66840100e-01,  8.55941959e-01, -1.20031357e-01,\n",
       "            -1.45929908e+00, -2.05403746e+00],\n",
       "           [ 1.47676102e-01, -1.02037822e-02, -8.17662188e-02,\n",
       "             8.55837486e-02, -1.79708291e+00],\n",
       "           [ 3.52520434e-01, -2.37935464e-01,  2.94396570e-01,\n",
       "            -5.47001954e-01, -4.36032969e-01],\n",
       "           [-8.81937431e-01, -7.20643857e-01, -2.27845710e-01,\n",
       "            -3.15293020e-01,  1.29095114e+00],\n",
       "           [ 4.00224731e-01, -1.49945502e+00, -8.25887460e-01,\n",
       "            -7.16230935e-02,  4.11852895e-01]]]],\n",
       "\n",
       "\n",
       "\n",
       "        [[[[ 6.84361624e-01, -1.29256298e+00, -9.75644782e-01,\n",
       "             6.32736747e-01, -1.31825841e+00],\n",
       "           [ 1.51803625e+00,  1.18859329e+00, -1.34738378e+00,\n",
       "             1.98318439e+00,  6.73318328e-01],\n",
       "           [ 4.51951793e-01,  2.26240016e+00, -4.21531235e-01,\n",
       "            -9.48850050e-01, -1.77036339e+00],\n",
       "           [-1.61494985e+00, -1.41842620e-01, -5.29919021e-01,\n",
       "             4.10263032e-01,  1.05421317e+00],\n",
       "           [-9.47112132e-01, -3.51572639e-01,  5.99668219e-01,\n",
       "             6.87249729e-02,  1.22068861e+00]],\n",
       "\n",
       "          [[-3.10520065e-01, -1.40094025e-01, -3.27719279e-01,\n",
       "             3.15216325e-01, -1.54904844e+00],\n",
       "           [ 1.08195096e+00,  1.69374464e+00,  9.44580288e-01,\n",
       "             6.36914053e-01, -8.35977880e-02],\n",
       "           [-1.00702547e-01,  9.64406959e-01,  2.87766660e-01,\n",
       "             3.63586160e-01,  8.62208997e-01],\n",
       "           [ 9.61860499e-01, -2.85225525e-01, -1.01837854e+00,\n",
       "             8.00565456e-01,  2.62841323e+00],\n",
       "           [ 1.67270425e+00, -3.00479883e-01, -3.36817914e-01,\n",
       "             1.64503664e+00,  5.26308537e-01]],\n",
       "\n",
       "          [[ 1.35486919e+00, -2.33144475e-01,  1.02307116e+00,\n",
       "             4.91749782e-01,  1.12667435e+00],\n",
       "           [ 1.05188777e+00, -1.07265848e-01,  1.31948742e+00,\n",
       "             2.23658339e+00, -1.55558756e+00],\n",
       "           [-1.03132189e+00, -2.90641660e-01, -2.88178274e-01,\n",
       "             2.23725560e-01,  1.28386156e-01],\n",
       "           [-6.99710253e-02, -6.69437819e-01,  1.66522832e+00,\n",
       "            -2.67104575e-01, -1.31169609e+00],\n",
       "           [ 9.81599709e-01,  8.17856645e-01,  1.61924082e+00,\n",
       "             1.05739861e+00, -1.22311891e+00]],\n",
       "\n",
       "          [[ 1.32424798e+00,  3.88555073e-01, -1.77409540e-01,\n",
       "             6.07167866e-01,  1.76069301e+00],\n",
       "           [-5.67808674e-01,  6.78749015e-02, -4.73005122e-01,\n",
       "             5.14220078e-01,  2.53014173e-01],\n",
       "           [ 5.54786620e-01,  1.52258521e+00, -1.59828971e+00,\n",
       "             4.73604358e-01,  7.70992097e-01],\n",
       "           [-2.78015374e-01, -4.69174761e-01,  1.07202077e-01,\n",
       "             5.58139517e-01,  2.15915867e-01],\n",
       "           [ 8.26065286e-01,  7.86559681e-01, -1.02782377e+00,\n",
       "             7.80103986e-02,  2.02388191e-02]]],\n",
       "\n",
       "\n",
       "         [[[ 1.72457153e+00, -6.30650986e-01, -1.87689726e+00,\n",
       "             1.75733355e+00, -5.07163266e-01],\n",
       "           [ 7.42026688e-01, -1.98639448e+00, -7.29124110e-01,\n",
       "             3.96072329e-01,  1.30678632e+00],\n",
       "           [ 7.83655018e-01,  4.60721307e-01, -1.74129365e+00,\n",
       "             9.46189351e-02, -1.18331859e+00],\n",
       "           [-2.12372875e-01,  1.06337561e+00,  1.25170749e+00,\n",
       "            -4.19770946e-02,  1.39447044e-01],\n",
       "           [-8.56793038e-01, -9.42347141e-01, -1.20600440e+00,\n",
       "            -2.80937721e-01, -4.17437579e-01]],\n",
       "\n",
       "          [[ 2.20470158e+00, -9.61551082e-02, -7.52981164e-01,\n",
       "            -2.29100634e-01,  6.78977070e-01],\n",
       "           [-4.96008773e-01,  8.99470268e-01, -1.14614174e+00,\n",
       "             5.41900554e-01, -2.92369265e-01],\n",
       "           [ 5.06745250e-01, -2.21990009e+00, -2.14865596e-01,\n",
       "            -7.88857049e-01, -1.56888811e+00],\n",
       "           [ 7.78325078e-01, -4.08383491e-01,  4.66475528e-01,\n",
       "             1.43164805e+00, -1.09933520e+00],\n",
       "           [ 7.07793415e-01,  4.73542438e-01, -2.96631171e+00,\n",
       "            -1.00318745e-02,  2.42088390e-02]],\n",
       "\n",
       "          [[ 1.66576769e+00, -1.39294365e-01,  9.68096350e-02,\n",
       "            -6.76524342e-01, -5.66772229e-01],\n",
       "           [-1.37634335e+00,  7.95341908e-01, -1.07534443e+00,\n",
       "             1.96365187e+00, -2.94502172e-01],\n",
       "           [ 2.93102700e-01,  1.16926277e+00, -7.19626991e-01,\n",
       "             1.78768752e+00,  1.29642419e-01],\n",
       "           [ 1.49622966e+00, -1.12239125e+00, -1.32749618e+00,\n",
       "             1.16149685e-01,  2.56266122e-01],\n",
       "           [-1.14733145e+00,  5.98080166e-01,  6.88699644e-01,\n",
       "            -1.54434983e-01, -3.40833807e-01]],\n",
       "\n",
       "          [[-4.71654230e-01, -5.62810396e-02,  9.76833013e-01,\n",
       "            -1.87130161e+00,  1.35246797e-01],\n",
       "           [-6.50796792e-01,  2.84497523e-01,  5.19875893e-01,\n",
       "            -5.40985811e-01,  1.81775027e+00],\n",
       "           [ 4.18788891e-01,  5.40589249e-01, -3.31405211e-01,\n",
       "             9.69165384e-01, -7.62325396e-02],\n",
       "           [ 1.42847871e-02,  5.91902743e-01,  7.14043040e-01,\n",
       "             1.25305351e+00, -1.25273871e-01],\n",
       "           [ 1.82569334e-02, -1.10978486e+00, -6.69871067e-01,\n",
       "            -3.78640908e-01, -4.76721071e-01]]],\n",
       "\n",
       "\n",
       "         [[[ 1.09236793e+00, -1.38522321e+00, -2.84286507e-01,\n",
       "            -1.22809960e+00,  7.02139319e-01],\n",
       "           [ 2.26213183e+00,  1.49119400e-01,  1.23501976e+00,\n",
       "            -2.71125123e-01, -6.50418150e-01],\n",
       "           [-1.86201161e+00,  1.01700468e+00,  7.85200564e-01,\n",
       "             1.13115691e+00,  6.14415470e-01],\n",
       "           [-1.01886927e+00, -7.97725926e-01, -8.42902130e-01,\n",
       "            -6.26903346e-01, -1.27359214e+00],\n",
       "           [ 1.20249329e-01, -7.43797058e-01, -6.30244234e-01,\n",
       "            -8.78783659e-01, -6.07563872e-01]],\n",
       "\n",
       "          [[-1.74458347e+00, -1.03589692e-01,  4.99318580e-01,\n",
       "             2.31125039e+00,  9.02578540e-01],\n",
       "           [ 6.10804553e-01,  8.56931228e-01, -5.68445623e-02,\n",
       "             5.41839551e-01,  8.47938365e-01],\n",
       "           [ 1.96646286e+00, -8.86308445e-02, -1.17138265e-01,\n",
       "            -4.53085424e-01, -2.25464532e-01],\n",
       "           [ 4.12147145e-01, -1.39824526e+00,  2.51109537e+00,\n",
       "             6.21235922e-02, -7.64810374e-01],\n",
       "           [-2.25045025e-01,  6.64015704e-01,  2.50738003e+00,\n",
       "             4.45600794e-01, -1.20390878e-01]],\n",
       "\n",
       "          [[ 3.09682027e-01, -8.51482977e-01, -6.19387232e-01,\n",
       "             1.83725605e+00, -2.08893486e+00],\n",
       "           [-9.24039549e-01,  8.30437665e-01, -5.33681389e-01,\n",
       "            -2.20958854e-01, -9.51193007e-03],\n",
       "           [-1.26598798e-01,  1.22261936e-01, -6.66977917e-02,\n",
       "             2.32026063e-01,  2.18313547e+00],\n",
       "           [-3.09177099e-01, -1.48016184e+00,  3.64155834e-01,\n",
       "            -1.30052655e+00,  2.83143120e-01],\n",
       "           [ 1.03111497e+00,  1.29891783e+00,  9.54093936e-01,\n",
       "            -9.86566492e-01,  1.00452282e+00]],\n",
       "\n",
       "          [[-3.98043415e-01,  1.09383237e+00,  1.07510048e+00,\n",
       "             5.58102087e-01,  1.43878711e+00],\n",
       "           [-9.14060794e-01,  9.25613062e-01, -5.07174863e-01,\n",
       "            -9.63718876e-01,  1.11563463e-01],\n",
       "           [ 2.55257485e-01, -2.70504038e-01,  6.25544070e-01,\n",
       "             1.72858761e-01, -2.07239880e-01],\n",
       "           [-7.91561124e-01, -2.29914778e+00,  6.54785021e-01,\n",
       "            -2.05871072e+00, -3.16108968e-01],\n",
       "           [-1.01119296e-01, -4.78571742e-01,  1.83060289e+00,\n",
       "            -9.60855236e-01, -1.25043070e+00]]]],\n",
       "\n",
       "\n",
       "\n",
       "        [[[[ 4.25126413e-01, -1.21673806e+00,  5.00377564e-01,\n",
       "            -5.00746277e-01,  1.82951141e+00],\n",
       "           [ 1.95821927e+00, -8.76529665e-01, -1.06273517e+00,\n",
       "            -1.01841680e+00,  2.35290694e+00],\n",
       "           [ 8.23043719e-02, -3.03742473e-02,  8.70051327e-01,\n",
       "            -2.87597282e-01,  7.33032926e-01],\n",
       "           [ 3.42077022e-01, -4.99780401e-01, -1.50067385e+00,\n",
       "            -9.47195758e-01,  7.58699583e-01],\n",
       "           [-1.50644849e+00,  1.64338808e+00, -5.67679906e-01,\n",
       "            -6.59942366e-01,  2.37710645e-02]],\n",
       "\n",
       "          [[ 1.04576027e+00, -6.79147041e-01, -1.21829560e+00,\n",
       "             1.39755748e+00, -1.29194122e+00],\n",
       "           [-1.64526729e+00,  1.79477925e+00,  2.50334052e-01,\n",
       "             5.40319150e-02,  2.09421192e-01],\n",
       "           [-1.36869483e+00,  1.31321740e-01,  1.89144778e+00,\n",
       "            -5.09573083e-01, -4.50952459e-01],\n",
       "           [ 1.42875931e+00,  9.14518084e-01, -1.32613112e+00,\n",
       "            -1.34223043e+00,  4.06332258e-01],\n",
       "           [ 1.76714592e+00,  8.39581216e-01,  1.69468233e+00,\n",
       "            -7.12442695e-01,  6.23837032e-01]],\n",
       "\n",
       "          [[ 5.71433148e-01,  2.96772461e-01,  1.47481811e+00,\n",
       "             5.23877739e-01,  4.66751013e-01],\n",
       "           [ 5.51610761e-01,  6.33053197e-01,  6.58616198e-01,\n",
       "            -5.49399673e-01,  3.61221812e-01],\n",
       "           [ 1.01730478e+00, -9.67860703e-01,  5.14022158e-01,\n",
       "            -1.88154896e-01,  7.20643136e-01],\n",
       "           [ 4.10374644e-01, -3.24267854e-01, -1.06874172e-01,\n",
       "             3.69360413e-01, -6.66813484e-01],\n",
       "           [ 7.86277761e-01,  9.67890066e-02,  1.28663445e+00,\n",
       "             6.80300294e-01,  9.20207198e-01]],\n",
       "\n",
       "          [[-2.08549031e-01, -9.14323764e-01, -3.74439186e-01,\n",
       "            -1.49744043e+00, -6.61328826e-02],\n",
       "           [ 7.51275668e-01, -1.60027351e+00,  1.61394616e+00,\n",
       "             6.52226287e-01,  5.54894903e-01],\n",
       "           [-8.28586326e-01,  8.21965456e-01, -7.30515594e-01,\n",
       "             6.63940951e-01,  3.94627332e-01],\n",
       "           [-9.30066627e-01,  9.07827949e-01, -5.30437441e-01,\n",
       "             9.29432772e-01, -1.78515848e+00],\n",
       "           [-3.89239309e-01,  4.21537167e-02, -1.03379432e-01,\n",
       "             8.35678976e-01, -2.07594739e+00]]],\n",
       "\n",
       "\n",
       "         [[[-4.06719619e-01, -9.53469350e-01,  3.91363998e-01,\n",
       "            -8.60302602e-01, -4.38428479e-03],\n",
       "           [ 1.98173622e-01, -3.05854440e-01, -1.23877476e+00,\n",
       "            -1.77532375e-01,  4.09744878e-01],\n",
       "           [-1.78849776e+00,  6.57238258e-01, -2.12738297e+00,\n",
       "             7.90063556e-01,  9.43374621e-01],\n",
       "           [-1.87222026e+00, -6.68449486e-01, -2.81864904e-01,\n",
       "             1.11860066e+00,  4.75474321e-01],\n",
       "           [ 1.41269466e-01,  1.93570719e+00,  6.13868413e-01,\n",
       "            -5.72952786e-01, -1.50915296e-01]],\n",
       "\n",
       "          [[ 3.43849489e+00, -8.87025054e-01,  1.91316745e+00,\n",
       "            -1.16072300e+00, -8.67524634e-01],\n",
       "           [-1.00433647e+00, -7.40400831e-02, -3.55948462e-01,\n",
       "             1.05687965e+00,  1.28921688e+00],\n",
       "           [-3.80088443e-01,  2.22656573e+00, -1.13056845e+00,\n",
       "            -1.27796740e+00, -1.58922531e+00],\n",
       "           [ 8.88462141e-01,  5.41622082e-01, -8.51494634e-01,\n",
       "             8.51338459e-01,  1.19593191e-01],\n",
       "           [ 4.78676916e-02, -6.66590063e-01,  1.08732865e-01,\n",
       "             2.91746528e-01, -9.29661983e-02]],\n",
       "\n",
       "          [[-1.10779483e+00, -1.12135802e+00, -1.22483010e+00,\n",
       "             9.34964766e-01,  8.62124633e-01],\n",
       "           [-1.00806971e+00, -9.98948502e-01,  1.06780087e+00,\n",
       "            -6.29557895e-01, -5.56497212e-01],\n",
       "           [-1.07909933e+00,  1.37516009e+00,  4.71527287e-02,\n",
       "            -1.45910995e+00, -9.41384105e-01],\n",
       "           [ 1.52128081e+00,  1.61471445e+00, -1.72595844e+00,\n",
       "             3.11159090e-01,  5.80871876e-01],\n",
       "           [ 1.89777071e-01,  1.34281137e+00,  4.06614247e-02,\n",
       "            -1.59538497e-01,  1.26245409e+00]],\n",
       "\n",
       "          [[ 4.07482512e-02,  1.22559176e+00, -4.01406090e-01,\n",
       "            -7.14098984e-02,  4.55852683e-01],\n",
       "           [ 1.70246048e+00,  3.72577184e-01, -3.62325311e-01,\n",
       "            -4.81988335e-01, -8.91352417e-01],\n",
       "           [ 1.43891172e+00, -6.95874755e-01, -6.88044909e-01,\n",
       "             9.41018842e-01,  1.47392221e+00],\n",
       "           [ 1.51963507e-01, -1.46049479e+00,  2.54590068e-01,\n",
       "             1.54106686e+00,  1.65720636e+00],\n",
       "           [ 3.35214726e-01,  1.50834563e+00,  8.93556243e-01,\n",
       "             2.52881789e-03,  1.18161114e+00]]],\n",
       "\n",
       "\n",
       "         [[[ 4.08145999e-01,  2.79855320e-01,  5.65303540e-01,\n",
       "             1.39536480e+00, -6.28490688e-01],\n",
       "           [-1.13177331e+00, -7.36580983e-01, -2.17156011e+00,\n",
       "            -8.27914822e-01,  4.35825184e-01],\n",
       "           [-4.49677409e-01,  1.01172164e+00,  4.79883894e-01,\n",
       "             4.43719015e-01, -3.69153617e-02],\n",
       "           [ 1.89994712e+00, -7.05100403e-02, -4.60761372e-01,\n",
       "            -1.13951878e+00,  2.35874903e+00],\n",
       "           [ 2.38226547e-01,  1.36504648e+00, -2.55372723e-01,\n",
       "            -1.09735694e+00, -2.26022361e-01]],\n",
       "\n",
       "          [[ 1.14979335e+00,  7.95262412e-01,  7.40338057e-02,\n",
       "            -9.98465323e-01,  6.85289468e-01],\n",
       "           [ 7.17638307e-01,  2.81599304e-01, -1.73383211e-01,\n",
       "             9.19932188e-01,  8.91830817e-02],\n",
       "           [ 1.81082154e+00, -1.28219643e-01, -1.87218167e+00,\n",
       "             8.10330146e-01, -4.59670248e-01],\n",
       "           [-1.47935972e-01, -4.73468058e-01,  8.43793583e-01,\n",
       "            -2.48516347e+00,  1.86412811e-01],\n",
       "           [ 1.50434695e+00, -6.66745169e-01, -2.05842821e-01,\n",
       "            -2.35742584e-01,  6.59297079e-01]],\n",
       "\n",
       "          [[ 5.16069820e-01, -1.69163296e-01, -1.06749851e+00,\n",
       "            -7.90393963e-01, -1.13049674e+00],\n",
       "           [ 2.99699324e-01, -4.76059383e-01, -8.36215664e-01,\n",
       "             2.27174471e+00, -2.56275648e-01],\n",
       "           [-9.53694488e-01, -6.12743971e-01, -2.05217589e-01,\n",
       "             9.21550021e-01,  3.51098974e-01],\n",
       "           [-1.28702696e+00,  1.05885384e+00, -2.45096406e-01,\n",
       "            -1.66302080e+00,  1.71746998e+00],\n",
       "           [-1.07642953e+00,  8.48921064e-01,  8.06411933e-01,\n",
       "            -1.80678482e+00, -1.38279266e-01]],\n",
       "\n",
       "          [[-1.13705737e+00, -1.13583425e+00,  7.33971581e-01,\n",
       "             1.59459179e-03,  7.87200966e-01],\n",
       "           [-7.00867977e-01, -5.38645734e-01, -9.78640614e-02,\n",
       "             1.05884255e-01, -2.02666394e-01],\n",
       "           [-9.56196256e-02,  3.14267424e-01, -3.92382232e-01,\n",
       "            -1.60082618e+00, -1.34697874e+00],\n",
       "           [ 3.23378756e-01,  1.91947414e-01, -5.94335894e-01,\n",
       "             4.79711767e-01, -1.11200808e+00],\n",
       "           [-8.94259530e-04, -1.89132975e+00,  1.38147978e+00,\n",
       "            -3.16453980e-01, -3.40831135e-01]]]]],\n",
       "\n",
       "\n",
       "\n",
       "\n",
       "       [[[[[ 1.94980101e-01, -9.30274492e-01,  6.75716112e-01,\n",
       "            -1.06775550e+00,  2.45950721e-01],\n",
       "           [-1.89235163e+00, -7.16549804e-01, -1.05795804e+00,\n",
       "             1.05153406e+00,  2.18669853e-01],\n",
       "           [-8.51202971e-01, -2.47570655e+00,  5.16372680e-01,\n",
       "             8.87120714e-01,  1.30829515e+00],\n",
       "           [-3.42399816e-01,  1.26962457e+00, -7.81292462e-03,\n",
       "            -1.29367421e+00, -5.87560944e-01],\n",
       "           [-1.16830532e+00,  7.05941287e-01, -3.72589717e-01,\n",
       "             1.08478316e+00,  1.19188882e-01]],\n",
       "\n",
       "          [[ 1.84706681e+00, -1.51951836e+00, -1.35843515e-01,\n",
       "            -4.81053774e-01,  1.03514991e-02],\n",
       "           [-1.21454101e-01,  2.76585415e-02, -8.89820850e-01,\n",
       "            -5.53436811e-01,  7.01992989e-02],\n",
       "           [ 1.84050214e+00, -3.27650714e-01, -2.00175458e+00,\n",
       "             2.21870053e-01,  7.56682665e-01],\n",
       "           [-5.20033133e-01, -9.34834525e-01,  2.69093102e-01,\n",
       "            -2.06166090e+00,  6.83956474e-01],\n",
       "           [-4.38606771e-02, -1.23301009e-01,  1.54161287e+00,\n",
       "             1.68567053e+00, -8.19449488e-01]],\n",
       "\n",
       "          [[ 1.40990553e+00, -3.59222294e-01, -5.38992063e-01,\n",
       "             2.90437792e-01, -8.29948552e-01],\n",
       "           [ 1.25559301e+00, -9.66657358e-01,  1.53388096e+00,\n",
       "            -1.57913770e-01,  3.09160685e+00],\n",
       "           [-8.68420826e-01,  2.27961122e-02, -1.16875564e+00,\n",
       "             4.58270939e-02, -2.94303207e+00],\n",
       "           [-4.60305773e-01, -1.47547649e+00, -2.55767184e-01,\n",
       "            -1.44066777e+00,  7.73479845e-01],\n",
       "           [ 1.93692853e+00, -1.04160701e+00, -1.40885918e+00,\n",
       "             1.13694205e+00, -3.60636851e-01]],\n",
       "\n",
       "          [[-1.03670257e+00,  1.19631971e+00, -1.33002191e-01,\n",
       "             1.26583423e+00, -1.46910338e+00],\n",
       "           [ 2.09036540e-02,  2.10866943e-01, -3.71533572e-01,\n",
       "            -1.63058771e-01,  1.72728992e+00],\n",
       "           [ 9.68542352e-01, -1.37204435e+00,  1.55758036e-01,\n",
       "            -8.64336500e-01, -7.45804406e-02],\n",
       "           [-4.34591751e-02, -6.30510576e-01,  3.14876858e-01,\n",
       "            -1.04350344e+00, -1.05773906e+00],\n",
       "           [ 1.65070654e+00,  5.45123969e-01,  1.73907077e+00,\n",
       "             8.10800794e-02,  2.74820725e-01]]],\n",
       "\n",
       "\n",
       "         [[[-9.46355654e-01,  9.12104718e-01, -1.05618613e+00,\n",
       "             6.44013513e-01,  1.89074763e+00],\n",
       "           [ 4.43689291e-01, -1.52270618e+00,  8.40543255e-01,\n",
       "            -7.57953844e-01, -1.12876111e+00],\n",
       "           [-4.77955857e-01, -1.12444511e+00, -2.54428588e+00,\n",
       "             1.00203532e+00, -1.11898399e-02],\n",
       "           [-1.03939913e+00, -7.61839660e-01,  2.65679658e-01,\n",
       "            -4.42559895e-01,  1.09365651e+00],\n",
       "           [-7.87964360e-01, -2.96991128e-01,  3.47787113e-01,\n",
       "            -6.95427726e-01,  2.41984755e+00]],\n",
       "\n",
       "          [[-5.52842452e-02, -9.27520685e-01,  2.44243403e-01,\n",
       "             5.68067796e-01, -1.85668734e+00],\n",
       "           [ 3.55791059e-01,  1.41720737e+00,  5.12507514e-02,\n",
       "             3.09941601e-01, -7.11465197e-01],\n",
       "           [-2.40568059e+00, -3.88046317e-01,  5.73858832e-01,\n",
       "            -6.04370716e-01, -4.89852196e-01],\n",
       "           [ 1.86096524e+00, -3.54485302e-01,  1.17910179e+00,\n",
       "            -1.40689732e+00,  2.12446391e-01],\n",
       "           [ 5.68257609e-01, -2.15349770e-02,  6.28704243e-01,\n",
       "            -2.14065552e+00, -5.92227416e-01]],\n",
       "\n",
       "          [[-2.47656268e-01, -1.25804375e+00,  1.78405123e-01,\n",
       "            -1.50042532e+00, -1.10230479e-01],\n",
       "           [ 2.13275169e-01, -1.26608876e-02,  3.10826730e-01,\n",
       "             1.01742318e+00, -7.49129268e-01],\n",
       "           [-1.81749057e-01,  4.41049717e-01,  6.46257654e-01,\n",
       "            -4.39756354e-01,  1.92267135e-01],\n",
       "           [ 1.66912096e+00, -4.09400957e-01,  7.48242240e-01,\n",
       "             2.30619481e-01,  2.34461933e-01],\n",
       "           [-9.44517367e-01, -9.03827535e-01, -9.32944417e-01,\n",
       "             1.24415729e+00,  6.97317765e-02]],\n",
       "\n",
       "          [[-1.07042298e-01, -9.38179382e-01, -8.75605641e-01,\n",
       "             1.20946432e+00,  4.98266422e-02],\n",
       "           [-6.30795676e-01, -1.23518503e+00,  2.27799188e+00,\n",
       "             1.06273396e+00, -1.63948686e+00],\n",
       "           [ 7.07706192e-01, -4.09798466e-01, -2.37330055e-01,\n",
       "             1.08052105e+00, -8.54454698e-02],\n",
       "           [-6.29302300e-01, -8.26506140e-01, -1.22327245e-01,\n",
       "             3.59731131e-02,  3.39297689e-01],\n",
       "           [ 1.85423248e+00,  4.27962953e-01, -2.48234540e+00,\n",
       "            -6.20970994e-01,  3.98332786e-01]]],\n",
       "\n",
       "\n",
       "         [[[ 1.99376537e-01, -2.63222624e+00,  3.31416976e+00,\n",
       "            -3.85188028e-01,  1.48218706e+00],\n",
       "           [ 9.20625345e-01, -1.95526289e+00,  2.04067841e-01,\n",
       "             1.65189058e-01,  6.15602064e-01],\n",
       "           [ 4.33355172e-01,  1.54669842e-01,  9.12316170e-02,\n",
       "             7.16387434e-01, -1.04688599e+00],\n",
       "           [ 3.36620936e-01, -4.23452981e-01,  5.50631224e-01,\n",
       "             5.69283042e-01, -4.15801435e-01],\n",
       "           [-4.98671704e-01, -1.25237402e-01,  3.39488573e-01,\n",
       "            -7.85825574e-01,  1.76466614e+00]],\n",
       "\n",
       "          [[ 1.02940097e-01, -6.90831895e-01,  7.02538871e-01,\n",
       "            -6.04387147e-01,  4.92969605e-01],\n",
       "           [-1.48769417e+00, -1.60468171e+00, -2.17175012e-01,\n",
       "             2.57419478e-02, -9.84681367e-01],\n",
       "           [-4.66405965e-01,  8.47273437e-02, -9.21398657e-01,\n",
       "             4.31360882e-01,  9.08336754e-01],\n",
       "           [-1.51079756e+00, -5.94223573e-01, -1.41066046e+00,\n",
       "             1.60092540e+00,  8.24663805e-01],\n",
       "           [ 3.68409507e-01,  4.16330239e-01, -1.16726821e+00,\n",
       "             5.47305678e-01, -3.82754722e-02]],\n",
       "\n",
       "          [[-8.83022255e-01, -1.63671171e-01, -5.22892249e-01,\n",
       "             1.09418439e+00,  9.81805123e-02],\n",
       "           [-1.64317028e+00,  1.11871052e+00,  1.42761064e+00,\n",
       "             1.85902418e+00, -4.01625560e-01],\n",
       "           [-6.15652501e-01,  1.20925391e-01, -6.92064250e-01,\n",
       "             3.74553001e-01, -1.14868028e-01],\n",
       "           [-6.07360627e-01,  1.22441036e+00,  1.75745709e+00,\n",
       "             1.27671561e+00,  8.26305861e-01],\n",
       "           [-4.78144974e-01, -6.83129454e-01,  3.35265231e-01,\n",
       "             1.69447654e+00,  8.23754076e-02]],\n",
       "\n",
       "          [[-7.93150272e-01,  2.77320051e+00, -1.69564655e-01,\n",
       "            -3.50649547e-01, -2.44953561e-01],\n",
       "           [-1.47660168e+00,  2.05241378e-01, -1.38159904e+00,\n",
       "            -9.02839617e-01, -1.58282131e+00],\n",
       "           [-1.38572532e+00,  1.77205976e+00,  2.71339997e-01,\n",
       "             1.25295128e+00,  2.06176034e+00],\n",
       "           [-1.44654281e-01, -2.13045547e-01, -2.56282543e-01,\n",
       "             5.30730888e-01, -2.32330742e-01],\n",
       "           [ 2.89579355e-01,  1.18967495e+00, -8.30403322e-01,\n",
       "            -3.93879367e-02, -6.60616407e-01]]]],\n",
       "\n",
       "\n",
       "\n",
       "        [[[[-6.58273790e-01,  3.23803351e-02,  7.90852913e-01,\n",
       "             2.42067777e+00,  4.29769247e-01],\n",
       "           [-2.98397303e-01,  1.43002118e+00, -1.06632332e-01,\n",
       "             6.46568515e-01,  8.59289172e-01],\n",
       "           [-1.11420543e+00, -8.99237815e-01, -7.38975917e-02,\n",
       "             1.66237530e+00, -9.03745715e-04],\n",
       "           [-7.25372396e-01,  6.73493726e-01, -1.58310555e+00,\n",
       "             1.14635809e-01, -1.18341561e+00],\n",
       "           [-4.52679406e-01, -4.48765373e-01, -1.47491036e+00,\n",
       "             1.16654683e-01,  4.48561741e-01]],\n",
       "\n",
       "          [[-5.29835647e-01,  3.78038539e-02,  1.13319072e-01,\n",
       "             1.19783747e+00,  2.91781278e-01],\n",
       "           [ 1.95693594e-01,  1.51888021e-01,  8.19218872e-01,\n",
       "            -3.78976863e-01,  2.13715267e+00],\n",
       "           [ 4.15630937e-01,  4.70768387e-01,  4.28412157e-01,\n",
       "            -5.24025719e-01, -6.26173034e-01],\n",
       "           [-2.78894877e-01,  1.27683482e+00,  4.26519100e-01,\n",
       "            -2.21669440e+00, -1.52007527e-01],\n",
       "           [-1.53492685e+00,  7.90516681e-01,  1.73360669e+00,\n",
       "             7.77232465e-01, -3.12607475e-03]],\n",
       "\n",
       "          [[ 1.31624246e-01, -9.09482727e-01, -5.10367222e-01,\n",
       "            -1.15665249e+00, -2.22570257e-01],\n",
       "           [ 4.12526734e-01, -4.12287539e-01, -7.12219380e-01,\n",
       "            -7.64956361e-01,  1.79669039e+00],\n",
       "           [-7.52213855e-01,  1.15275178e+00,  1.03427702e-01,\n",
       "             1.04857213e+00, -2.03574698e+00],\n",
       "           [-9.70598061e-01, -4.15779448e-01,  4.20152983e-01,\n",
       "            -6.33096900e-02, -2.28649878e-01],\n",
       "           [ 6.93405366e-01, -1.05352404e+00,  3.84094602e-01,\n",
       "            -1.89589852e+00, -1.63196237e+00]],\n",
       "\n",
       "          [[ 1.67189331e+00, -7.57523246e-01, -2.65789524e-01,\n",
       "            -1.07702808e+00, -9.67621206e-02],\n",
       "           [ 1.28876696e+00,  9.17283026e-03, -7.08731886e-01,\n",
       "            -3.10396618e-01,  2.08713471e+00],\n",
       "           [ 1.92599436e-01,  4.70444461e-02,  7.80010903e-01,\n",
       "            -1.03940159e+00, -6.55747264e-01],\n",
       "           [ 1.79067668e-01, -1.07177087e-01, -2.34166919e-01,\n",
       "            -8.21623760e-01,  3.79422437e-01],\n",
       "           [ 1.59110286e+00,  3.36172978e-01,  7.96754856e-01,\n",
       "             1.13019723e+00,  2.48738532e-01]]],\n",
       "\n",
       "\n",
       "         [[[-2.51914277e+00,  4.67408623e-01,  1.94380807e-01,\n",
       "             8.22195246e-01, -3.53371792e-01],\n",
       "           [-5.03134445e-01,  4.75691004e-01,  2.73888082e-01,\n",
       "             1.29259412e+00, -1.24444487e+00],\n",
       "           [-1.10712122e-02,  1.31754664e+00,  1.28902360e+00,\n",
       "            -6.85304977e-01, -7.78969855e-01],\n",
       "           [-3.76149148e-01, -1.98011185e+00,  3.02068870e-01,\n",
       "             1.02677699e+00,  2.34929280e+00],\n",
       "           [-5.64861040e-01,  2.38836750e+00, -8.43583154e-01,\n",
       "            -6.32591988e-01, -2.64910690e+00]],\n",
       "\n",
       "          [[ 5.16737646e-01,  5.20047102e-01, -1.10142333e+00,\n",
       "             1.01233796e+00, -4.76655370e-01],\n",
       "           [-1.41551630e+00, -3.08909414e-01,  1.04511394e+00,\n",
       "            -3.97893806e-01,  4.83500619e-01],\n",
       "           [ 8.77402983e-01,  2.59849285e-01,  9.55315799e-01,\n",
       "            -2.19489974e-01, -2.64342575e-02],\n",
       "           [-9.44615234e-01,  1.92466363e+00,  1.13349512e+00,\n",
       "            -2.18791776e-01,  1.55216448e+00],\n",
       "           [ 3.17809367e-01, -1.27726463e+00,  2.02560952e-01,\n",
       "            -6.57812570e-01, -2.51912865e-01]],\n",
       "\n",
       "          [[-7.15227090e-01,  3.45580793e-01,  2.48785180e-01,\n",
       "            -4.44534312e-01, -8.14759818e-01],\n",
       "           [-1.07541949e+00,  1.44794162e+00, -7.22711450e-01,\n",
       "            -1.83065663e+00, -1.30421197e+00],\n",
       "           [-1.23637644e+00, -7.35754061e-02, -4.56751835e-01,\n",
       "             3.45573392e-01, -1.06404008e+00],\n",
       "           [-1.13832352e-01, -2.74353349e+00,  1.01201280e+00,\n",
       "             6.74631128e-01, -5.63607644e-01],\n",
       "           [-6.91908910e-01, -7.60531553e-01,  1.28072931e+00,\n",
       "             3.75581208e-01, -1.10386324e+00]],\n",
       "\n",
       "          [[ 7.34063085e-01,  6.42801255e-01,  5.51168287e-01,\n",
       "             5.09829850e-01, -6.62576848e-01],\n",
       "           [ 2.72043140e-01,  1.01277032e+00,  3.08418359e-02,\n",
       "             9.31165476e-01,  9.34655976e-01],\n",
       "           [ 7.27432174e-02,  1.83515305e-01,  7.79051539e-01,\n",
       "            -2.32785647e-01, -1.95510598e+00],\n",
       "           [ 4.59248853e-02,  2.33792207e-01, -9.71499576e-01,\n",
       "            -2.53872545e-01, -8.22123164e-01],\n",
       "           [ 3.07266781e-01, -6.03919035e-01, -1.76258689e+00,\n",
       "             1.89867041e-01,  1.04395198e+00]]],\n",
       "\n",
       "\n",
       "         [[[-4.15031851e-01, -1.54896480e+00, -2.31629749e+00,\n",
       "             7.94612409e-01, -1.23176598e+00],\n",
       "           [ 2.18365860e-01,  9.98876640e-01,  1.32886081e+00,\n",
       "             1.51193719e+00,  4.49181562e-01],\n",
       "           [-1.29475703e-02, -1.01728707e+00,  1.49954088e+00,\n",
       "             4.45308801e-01,  7.86340415e-01],\n",
       "           [ 6.36293442e-02,  2.41014995e-01,  4.75291226e-01,\n",
       "            -6.54258395e-01,  1.45469830e+00],\n",
       "           [ 2.57702048e-01,  1.84458914e+00,  1.28661095e+00,\n",
       "             2.04065043e-02,  2.67537893e+00]],\n",
       "\n",
       "          [[-3.75850458e-02,  3.99114256e-01, -1.31926122e+00,\n",
       "             2.40241787e+00,  1.51242456e+00],\n",
       "           [ 7.05942515e-01,  1.00036780e+00,  4.05519409e-01,\n",
       "             2.97848368e-01, -4.95948490e-01],\n",
       "           [ 3.86449794e-01,  1.20891260e+00, -1.78632585e-01,\n",
       "            -1.46306286e+00,  2.29084071e-01],\n",
       "           [-1.66898043e+00, -1.56954714e+00,  1.02712084e+00,\n",
       "             5.62244797e-01, -8.47180551e-01],\n",
       "           [ 8.17650049e-02,  1.50854213e+00, -2.77850905e+00,\n",
       "            -1.83061976e+00,  5.48833496e-02]],\n",
       "\n",
       "          [[ 5.48273766e-01, -1.26681509e+00, -1.82573697e-01,\n",
       "             1.13316274e+00,  3.23785866e-01],\n",
       "           [-1.01019798e+00,  1.32091941e+00,  1.08433344e+00,\n",
       "             2.25901826e-01,  8.32545811e-01],\n",
       "           [ 4.69870461e-01,  1.05964494e+00,  4.26697708e-01,\n",
       "            -4.68909353e-01, -2.54971881e-01],\n",
       "           [-9.07898815e-01, -7.80196477e-01,  2.92441427e+00,\n",
       "             9.00071991e-01,  7.50150571e-01],\n",
       "           [ 1.89474170e-01, -6.24613512e-01,  2.61511991e-01,\n",
       "            -1.31641672e+00,  5.79343546e-01]],\n",
       "\n",
       "          [[-1.27194203e+00,  5.63676841e-01,  9.78051810e-01,\n",
       "            -1.67862288e+00,  6.42523227e-02],\n",
       "           [-3.90814280e-01, -1.63556361e+00,  1.57221062e+00,\n",
       "            -2.79153345e-01,  2.93424123e+00],\n",
       "           [ 2.23639953e-01, -1.44260469e+00, -1.72945294e-01,\n",
       "            -3.80767775e-01,  8.55214610e-01],\n",
       "           [-9.37682875e-02,  1.03985028e+00, -9.65623346e-01,\n",
       "             1.69542693e+00,  1.83834391e+00],\n",
       "           [-5.48274100e-01, -1.33538251e+00, -1.46529382e+00,\n",
       "             1.85270288e-01,  1.27079138e+00]]]],\n",
       "\n",
       "\n",
       "\n",
       "        [[[[ 1.07698407e+00,  2.94146704e-01, -2.95871681e-01,\n",
       "             1.19619805e+00, -1.78937779e-01],\n",
       "           [ 8.61094116e-02, -1.27114548e-01, -1.64711530e+00,\n",
       "             4.14841701e-01,  2.89247587e-01],\n",
       "           [ 2.51355567e-01, -8.40801500e-01, -1.10353750e-01,\n",
       "            -3.97642614e-01, -1.79024877e+00],\n",
       "           [ 5.99993173e-01,  2.81295638e-01,  4.21413517e-01,\n",
       "            -7.43377025e-01,  6.22758635e-01],\n",
       "           [-2.00008343e+00,  9.51284166e-01,  1.38184741e+00,\n",
       "             2.49001736e-02, -3.63769587e-01]],\n",
       "\n",
       "          [[ 1.16376209e+00, -2.79689464e-01,  1.52739662e+00,\n",
       "            -5.26805378e-01, -7.93268838e-02],\n",
       "           [-8.84268388e-02,  1.57721150e-01, -2.53486683e+00,\n",
       "            -3.18673008e-01, -4.22476456e-01],\n",
       "           [-9.03396135e-01, -8.22236684e-01,  1.26662167e+00,\n",
       "            -2.06401957e+00,  5.50736729e-01],\n",
       "           [ 1.88706521e-01, -8.88182155e-01,  3.19955589e-02,\n",
       "             5.60725181e-01,  8.47610548e-01],\n",
       "           [ 5.52324778e-01, -2.17916564e+00,  9.03223312e-01,\n",
       "            -1.21182781e+00,  1.02501676e+00]],\n",
       "\n",
       "          [[ 1.11106688e+00, -3.55077856e-01,  1.43344456e+00,\n",
       "             9.03411894e-01,  1.19169253e+00],\n",
       "           [-3.57302398e-01,  5.39481158e-01,  5.23784649e-01,\n",
       "            -1.26453240e+00, -1.82833875e+00],\n",
       "           [ 1.17475839e+00,  9.44549147e-01, -5.10123535e-01,\n",
       "             4.52835561e-02,  6.50561951e-01],\n",
       "           [ 1.38828758e+00, -6.34390269e-01, -2.55028166e-01,\n",
       "            -1.96775717e+00, -2.63096493e-01],\n",
       "           [-1.00607272e-01,  2.69485058e-01,  5.96902905e-02,\n",
       "            -3.84274070e+00,  9.81218608e-01]],\n",
       "\n",
       "          [[-6.57478164e-01, -4.50125540e-01,  1.65041537e-01,\n",
       "            -1.96669586e+00,  6.48197646e-01],\n",
       "           [ 2.44352406e-01,  5.73272451e-01,  1.88830038e+00,\n",
       "            -1.84046765e-01, -1.80276419e+00],\n",
       "           [ 5.64702113e-01, -8.54741943e-01,  1.04862584e-01,\n",
       "             1.93487772e+00,  3.21132624e-01],\n",
       "           [ 1.05758809e+00,  3.17389659e-01,  3.69915806e-01,\n",
       "            -6.77445495e-01,  1.69142864e-01],\n",
       "           [-4.87143273e-01,  8.61003752e-02,  2.26286139e+00,\n",
       "            -1.05781352e-03,  1.08739789e+00]]],\n",
       "\n",
       "\n",
       "         [[[-2.25115646e+00,  4.56889012e-01, -1.70450826e-01,\n",
       "             8.10826115e-01, -7.84311935e-01],\n",
       "           [ 2.19786361e-01,  1.47182585e-01, -1.76683297e+00,\n",
       "            -7.78876851e-01, -1.96391841e+00],\n",
       "           [-1.30628079e+00, -2.04085091e+00, -9.81729894e-01,\n",
       "            -6.03903540e-01, -4.95362226e-01],\n",
       "           [-2.16935762e-01, -4.16016107e-01, -1.72098083e+00,\n",
       "            -2.31396653e+00, -6.86579890e-01],\n",
       "           [ 3.47693029e-01,  7.41350936e-01,  8.17755083e-01,\n",
       "            -2.90751842e-01, -3.34632034e-01]],\n",
       "\n",
       "          [[ 1.65404513e-01,  4.20410492e-01, -1.42030925e+00,\n",
       "            -4.52376645e-01,  4.13594842e-01],\n",
       "           [-6.71159606e-01, -4.38821931e-01, -1.37028880e+00,\n",
       "             8.61230619e-01,  1.54369032e+00],\n",
       "           [ 1.36230745e-01,  3.31105391e-01,  1.37865159e-01,\n",
       "            -1.20866446e+00, -3.55778237e-01],\n",
       "           [ 1.71283313e-01, -6.33823131e-01,  1.49354381e+00,\n",
       "             3.66683000e-01,  7.39506613e-01],\n",
       "           [ 1.23653725e+00,  7.74635287e-01,  1.28048484e+00,\n",
       "             4.08553867e-01, -3.75463437e-04]],\n",
       "\n",
       "          [[ 6.54451301e-02, -4.40099043e-01, -8.14237223e-01,\n",
       "             9.39973990e-01,  7.32613262e-01],\n",
       "           [-3.25971709e-01,  2.05553745e+00, -6.70603655e-01,\n",
       "             9.97821307e-01, -5.02367806e-01],\n",
       "           [-3.62216189e-01,  1.02890352e+00,  3.46601153e-01,\n",
       "            -2.25978685e+00,  2.26112958e-01],\n",
       "           [-2.33332293e+00, -8.31735347e-01,  1.24272683e+00,\n",
       "            -1.30278143e+00,  1.44362173e+00],\n",
       "           [ 2.95304030e-01, -4.52317794e-01, -7.33864584e-01,\n",
       "             5.76434022e-01,  7.09427237e-01]],\n",
       "\n",
       "          [[ 2.74417295e-01, -7.50198428e-01, -8.11729190e-01,\n",
       "             1.43467781e+00, -3.08306648e-01],\n",
       "           [ 1.38121987e+00,  1.61963359e+00, -5.12390735e-01,\n",
       "             7.88289959e-01, -9.91811264e-02],\n",
       "           [-6.56978038e-01,  5.12240478e-01,  6.36767003e-01,\n",
       "            -2.26688319e+00, -4.24086250e-01],\n",
       "           [-4.71967987e-02, -7.57351692e-01,  1.47926853e+00,\n",
       "            -9.88035960e-02, -1.67811986e+00],\n",
       "           [-6.93666990e-02,  8.71950314e-01, -8.80243813e-01,\n",
       "             6.48483911e-01,  1.98117894e+00]]],\n",
       "\n",
       "\n",
       "         [[[ 3.41736775e-01, -7.00655877e-03,  2.45525884e-01,\n",
       "             9.80217867e-02, -2.30500605e-01],\n",
       "           [ 6.99162870e-01, -5.13020004e-01,  1.11368911e+00,\n",
       "             8.69799432e-01,  1.94309031e-01],\n",
       "           [ 7.63946413e-01,  2.43600708e+00,  9.87086635e-01,\n",
       "             1.05875793e+00,  2.11609708e-01],\n",
       "           [-1.42668090e+00,  1.24397817e+00, -1.97119545e-01,\n",
       "             1.11329374e+00, -4.29309737e-01],\n",
       "           [-1.21159250e+00,  1.35219077e+00,  1.38837059e-01,\n",
       "            -1.05146342e+00, -6.82445047e-01]],\n",
       "\n",
       "          [[ 9.53586981e-01,  2.83053102e-01,  1.72858109e+00,\n",
       "            -7.99160814e-01,  1.75158608e-02],\n",
       "           [ 4.50090385e-01,  7.64000727e-01,  2.06416928e-01,\n",
       "             5.93183442e-01,  9.21741783e-01],\n",
       "           [-3.97999958e-01, -1.83461222e-01,  5.39829110e-01,\n",
       "             1.18840287e-01, -6.33480548e-03],\n",
       "           [ 1.14153685e+00, -7.30689409e-01,  6.66127097e-01,\n",
       "            -9.18383338e-01, -8.16572721e-01],\n",
       "           [-8.46210703e-01, -5.20749234e-01, -1.37149949e+00,\n",
       "            -3.03011908e-01,  2.52093611e-01]],\n",
       "\n",
       "          [[ 1.15720964e+00,  7.87433048e-01,  1.11201360e+00,\n",
       "             2.36059221e-01, -3.18597414e-01],\n",
       "           [ 3.55130001e-01, -1.57074485e+00,  1.69360682e+00,\n",
       "            -1.49059903e-01,  1.00961425e+00],\n",
       "           [ 1.59868953e+00, -7.46731436e-01, -2.43997317e-01,\n",
       "             4.78693157e-02, -1.01202384e+00],\n",
       "           [ 8.82499367e-01, -1.65468224e+00,  1.22909559e-01,\n",
       "             3.41852586e-01, -9.78695792e-02],\n",
       "           [-8.02465793e-01, -2.13868328e-01, -4.30403285e-01,\n",
       "             2.38767287e+00, -7.46419634e-01]],\n",
       "\n",
       "          [[-3.88574103e-01, -5.23503952e-01, -1.99927689e-01,\n",
       "            -1.49305743e-01, -1.56144867e-01],\n",
       "           [-1.17670009e+00,  1.69014599e-01, -8.50373801e-01,\n",
       "            -2.08408848e+00, -1.14892459e+00],\n",
       "           [-1.06683914e+00,  5.10331022e-01, -1.03557582e+00,\n",
       "             2.19839243e+00,  3.88239030e-01],\n",
       "           [-1.50585334e+00, -2.22318036e-01,  1.63476845e+00,\n",
       "             1.52437151e+00,  7.67736582e-01],\n",
       "           [-1.65182030e-01,  1.45969790e+00, -1.25382776e+00,\n",
       "             2.15798717e+00, -1.27574687e-01]]]]]])"
      ]
     },
     "execution_count": 24,
     "metadata": {},
     "output_type": "execute_result"
    }
   ],
   "source": [
    "a = np.random.randn(2,3,3,4,5,5)\n",
    "print(a.ndim)\n",
    "print(a.shape)\n",
    "a = a * 10\n",
    "a"
   ]
  },
  {
   "cell_type": "markdown",
   "metadata": {
    "id": "qEA4o_g7l-Pk"
   },
   "source": [
    "**print(a.ndim)**:\n",
    "\n",
    "The array a's six dimensions are displayed in this line. It suggests that the array an is a six-dimensional one.\n",
    "\n"
   ]
  },
  {
   "cell_type": "markdown",
   "metadata": {
    "id": "WtGkg5iiocbk"
   },
   "source": [
    "**np.std()**\n",
    "\n",
    "A set of values' standard deviation can be determined using NumPy's np.std() method. The degree of variance or dispersion in a collection of data is measured by the standard deviation. It expresses how widely scattered values are from the mean (average) in a dataset. Generally speaking, data points with a low standard deviation tend to be close to the mean, whereas those with a high standard deviation tend to be further out from the mean."
   ]
  },
  {
   "cell_type": "code",
   "execution_count": null,
   "metadata": {
    "colab": {
     "base_uri": "https://localhost:8080/"
    },
    "id": "RUR1hr4eob98",
    "outputId": "23df021f-bae0-40ea-c9cc-c0e7d7162348"
   },
   "outputs": [
    {
     "name": "stdout",
     "output_type": "stream",
     "text": [
      "Data: [10 15 20 25 30]\n",
      "Standard Deviation: 7.07\n"
     ]
    }
   ],
   "source": [
    "import numpy as np\n",
    "\n",
    "# Create an array of values\n",
    "data = np.array([10, 15, 20, 25, 30])\n",
    "\n",
    "# Calculate the standard deviation of the data\n",
    "std_deviation = np.std(data)\n",
    "\n",
    "print(f\"Data: {data}\")\n",
    "print(f\"Standard Deviation: {std_deviation:.2f}\")\n"
   ]
  },
  {
   "cell_type": "markdown",
   "metadata": {
    "id": "7fZDaL5aouM0"
   },
   "source": [
    "\"f\" here is actually used to open the curly brackets in it and open it"
   ]
  },
  {
   "cell_type": "markdown",
   "metadata": {
    "id": "caXV-_mhncKD"
   },
   "source": [
    "**For max , min & mean**"
   ]
  },
  {
   "cell_type": "code",
   "execution_count": null,
   "metadata": {
    "colab": {
     "base_uri": "https://localhost:8080/",
     "height": 86
    },
    "id": "4G_Gk3Etnbab",
    "outputId": "18849b79-0df2-4ffb-8c2f-303149ed5f61"
   },
   "outputs": [
    {
     "data": {
      "text/plain": [
       "array([[0, 1],\n",
       "       [2, 3]])"
      ]
     },
     "metadata": {},
     "output_type": "display_data"
    },
    {
     "data": {
      "text/plain": [
       "array([[0, 1],\n",
       "       [4, 9]])"
      ]
     },
     "metadata": {},
     "output_type": "display_data"
    }
   ],
   "source": [
    "import numpy as np\n",
    "a = np.arange(2*2).reshape(2, 2)\n",
    "display(a)\n",
    "\n",
    "b = np.arange(2*2).reshape(2, 2)**2\n",
    "display(b)"
   ]
  },
  {
   "cell_type": "code",
   "execution_count": null,
   "metadata": {
    "colab": {
     "base_uri": "https://localhost:8080/"
    },
    "id": "fJ4peXuenj0F",
    "outputId": "2bbe5ce4-58c5-4d63-8528-c41688f1997c"
   },
   "outputs": [
    {
     "data": {
      "text/plain": [
       "array([[0, 1],\n",
       "       [4, 9]])"
      ]
     },
     "execution_count": 26,
     "metadata": {},
     "output_type": "execute_result"
    }
   ],
   "source": [
    "np.maximum(a, b)"
   ]
  },
  {
   "cell_type": "code",
   "execution_count": null,
   "metadata": {
    "colab": {
     "base_uri": "https://localhost:8080/"
    },
    "id": "y3Ep0zQgnjtM",
    "outputId": "e5f7a1fb-a774-463c-eac9-9acd3309c5cf"
   },
   "outputs": [
    {
     "data": {
      "text/plain": [
       "1.5"
      ]
     },
     "execution_count": 28,
     "metadata": {},
     "output_type": "execute_result"
    }
   ],
   "source": [
    "np.mean(a)"
   ]
  },
  {
   "cell_type": "code",
   "execution_count": null,
   "metadata": {
    "colab": {
     "base_uri": "https://localhost:8080/"
    },
    "id": "y6mEwWHPnsNG",
    "outputId": "33b4ddf9-99c1-40bc-ab01-f1c7e030b68b"
   },
   "outputs": [
    {
     "data": {
      "text/plain": [
       "<ufunc 'minimum'>"
      ]
     },
     "execution_count": 29,
     "metadata": {},
     "output_type": "execute_result"
    }
   ],
   "source": [
    "np.minimum"
   ]
  },
  {
   "cell_type": "markdown",
   "metadata": {
    "id": "BIRRhIsRnHuM"
   },
   "source": [
    "# Analytical library\n",
    "#1)Metplotlib\n",
    "\n",
    "it is used for plotting graphs chart"
   ]
  },
  {
   "cell_type": "code",
   "execution_count": null,
   "metadata": {
    "id": "Xp7EhF6Afdgk"
   },
   "outputs": [],
   "source": []
  },
  {
   "cell_type": "markdown",
   "metadata": {
    "id": "H_rRHoS4p9Os"
   },
   "source": [
    "To use metplotlib we need to import it first\n"
   ]
  },
  {
   "cell_type": "code",
   "execution_count": null,
   "metadata": {
    "id": "seegMrD8qBoO"
   },
   "outputs": [],
   "source": [
    "import matplotlib.pyplot as plt"
   ]
  },
  {
   "cell_type": "markdown",
   "metadata": {
    "id": "YcEG79wBqKRd"
   },
   "source": [
    "**following are the various type of plot and chart**\n",
    "\n",
    "plt.plot(): Create line plots.\n",
    "\n",
    "plt.scatter(): Create scatter plots.\n",
    "\n",
    "plt.bar() and plt.barh(): Create bar charts (vertical and horizontal).\n",
    "\n",
    "plt.hist(): Create histograms.\n",
    "\n",
    "plt.boxplot(): Create box plots.\n",
    "\n",
    "plt.pie(): Create pie charts."
   ]
  },
  {
   "cell_type": "code",
   "execution_count": null,
   "metadata": {
    "id": "IhtmNZMkq2gy"
   },
   "outputs": [],
   "source": []
  },
  {
   "cell_type": "markdown",
   "metadata": {
    "id": "h_4WDNfrrFxc"
   },
   "source": [
    "**Figure and Axes**: Matplotlib uses the concept of figures and axes to organize plots.\n",
    "\n",
    "plt.figure(): Create a new figure.\n",
    "\n",
    "plt.subplots(): Create a grid of subplots.\n",
    "\n",
    "ax = fig.add_subplot(): Add individual subplots to a figure."
   ]
  },
  {
   "cell_type": "code",
   "execution_count": null,
   "metadata": {
    "id": "2z0ToR0BrIzr"
   },
   "outputs": [],
   "source": []
  },
  {
   "cell_type": "markdown",
   "metadata": {
    "id": "p_UAuyPmrLtE"
   },
   "source": [
    "**Customization:**\n",
    "\n",
    "plt.title(): Set the title of the plot.\n",
    "\n",
    "plt.xlabel() and plt.ylabel(): Set axis labels.\n",
    "\n",
    "plt.legend(): Add legends to the plot.\n",
    "\n",
    "plt.grid(): Add gridlines to the plot.\n",
    "\n",
    "plt.xlim() and plt.ylim(): Set axis limits.\n",
    "\n",
    "plt.xticks() and plt.yticks(): Customize tick locations and labels.\n",
    "\n",
    "plt.text(): Add text annotations to the plot."
   ]
  },
  {
   "cell_type": "code",
   "execution_count": null,
   "metadata": {
    "id": "TxTzTjtXrPnB"
   },
   "outputs": [],
   "source": []
  },
  {
   "cell_type": "markdown",
   "metadata": {
    "id": "d0qfe_XTrQTL"
   },
   "source": [
    "**Color and Style:**\n",
    "\n",
    "color, linestyle, and marker parameters in plotting functions: Customize line and marker styles.\n",
    "plt.colors module: Access a variety of predefined colors.\n",
    "Saving and Displaying:\n",
    "\n",
    "plt.savefig(): Save the plot to a file.\n",
    "\n",
    "plt.show(): Display the plot.\n",
    "\n",
    "Multiple Subplots:\n",
    "\n",
    "plt.subplots(): Create a grid of subplots.\n",
    "\n",
    "ax.twinx() and ax.twiny(): Create twin axes for overlaying plots.\n",
    "3D Plotting:\n",
    "\n",
    "**mpl_toolkits.mplot3d**: Module for 3D plotting.\n",
    "Functions like plot_surface(), plot_wireframe(), and scatter() for 3D plots.\n",
    "\n",
    "**Annotations and Text:**\n",
    "\n",
    "plt.annotate(): Add annotations with arrows.\n",
    "\n",
    "plt.text(): Add text at specified coordinates.\n",
    "\n",
    "Color Maps:\n",
    "\n",
    "plt.cm module: Access predefined color maps for heatmaps and color-based visualizations."
   ]
  },
  {
   "cell_type": "code",
   "execution_count": null,
   "metadata": {
    "colab": {
     "base_uri": "https://localhost:8080/",
     "height": 564
    },
    "id": "-FSL-Ry7rhA-",
    "outputId": "e97e4a08-c1f9-42d7-8b27-14663e156f7e"
   },
   "outputs": [
    {
     "data": {
      "image/png": "[encoded data removed]",
      "text/plain": [
       "<Figure size 800x600 with 2 Axes>"
      ]
     },
     "metadata": {},
     "output_type": "display_data"
    }
   ],
   "source": [
    "import matplotlib.pyplot as plt\n",
    "import numpy as np\n",
    "\n",
    "# Sample data\n",
    "x = np.linspace(0, 10, 100)\n",
    "y1 = np.sin(x)\n",
    "y2 = np.cos(x)\n",
    "\n",
    "# Create a figure with two subplots (2 rows, 1 column)\n",
    "fig, (ax1, ax2) = plt.subplots(2, 1, figsize=(8, 6))\n",
    "\n",
    "# Plot data on the first subplot\n",
    "ax1.plot(x, y1, label='sin(x)', color='blue', linestyle='--', marker='o')\n",
    "ax1.set_title('Trigonometric Functions')\n",
    "ax1.set_xlabel('x')\n",
    "ax1.set_ylabel('y')\n",
    "ax1.legend()\n",
    "\n",
    "# Plot data on the second subplot\n",
    "ax2.plot(x, y2, label='cos(x)', color='red', linestyle='-', marker='s')\n",
    "ax2.set_xlabel('x')\n",
    "ax2.set_ylabel('y')\n",
    "ax2.legend()\n",
    "\n",
    "# Add gridlines to both subplots\n",
    "ax1.grid()\n",
    "ax2.grid()\n",
    "\n",
    "# Customize tick locations and labels for the x-axis of the second subplot\n",
    "ax2.set_xticks([0, 2, 4, 6, 8, 10])\n",
    "ax2.set_xticklabels(['0', '2', '4', '6', '8', '10'])\n",
    "\n",
    "# Save the plot to a file\n",
    "plt.savefig('trig_functions.png')\n",
    "\n",
    "# Display the plot\n",
    "plt.show()\n"
   ]
  },
  {
   "cell_type": "markdown",
   "metadata": {
    "id": "yEIuXS2cub_e"
   },
   "source": [
    "Here there is again a simple example"
   ]
  },
  {
   "cell_type": "code",
   "execution_count": null,
   "metadata": {
    "colab": {
     "base_uri": "https://localhost:8080/",
     "height": 472
    },
    "id": "WVJNdkdSt_Dz",
    "outputId": "f8d22b91-e0ea-4c9d-d6ba-10972b4186c3"
   },
   "outputs": [
    {
     "data": {
      "image/png": "[encoded data removed]",
      "text/plain": [
       "<Figure size 640x480 with 1 Axes>"
      ]
     },
     "metadata": {},
     "output_type": "display_data"
    }
   ],
   "source": [
    "import matplotlib.pyplot as plt\n",
    "\n",
    "# Sample data\n",
    "x = [1, 2, 3, 4, 5]\n",
    "y = [10, 8, 15, 7, 12]\n",
    "\n",
    "# Create a plot with grid lines\n",
    "plt.plot(x, y)\n",
    "plt.grid(True)  # Enable grid lines\n",
    "\n",
    "plt.xlabel('X-axis')\n",
    "plt.ylabel('Y-axis')\n",
    "plt.title('Sample Plot with Grid Lines')\n",
    "\n",
    "plt.show()\n"
   ]
  },
  {
   "cell_type": "markdown",
   "metadata": {
    "id": "LgOdUNXeyQl8"
   },
   "source": [
    "#2)SEABORN\n",
    "**Data Distribution Plots:**\n",
    "\n",
    "sns.histplot(): Create histograms.\n",
    "\n",
    "sns.kdeplot(): Create kernel density plots.\n",
    "\n",
    "sns.distplot(): Create a combination of histogram and kernel density plot.\n",
    "\n",
    "sns.rugplot(): Create rug plots to show data points on an axis.\n",
    "\n",
    "**Categorical Plots:**\n",
    "\n",
    "sns.barplot(): Create bar plots for categorical data.\n",
    "\n",
    "sns.countplot(): Create count plots to show the number of observations in each category.\n",
    "\n",
    "sns.boxplot(): Create box plots.\n",
    "\n",
    "sns.violinplot(): Create violin plots.\n",
    "\n",
    "sns.stripplot(): Create strip plots.\n",
    "\n",
    "sns.swarmplot(): Create swarm plots.\n",
    "\n",
    "**Matrix Plots:**\n",
    "\n",
    "sns.heatmap(): Create heatmaps.\n",
    "\n",
    "sns.clustermap(): Create a clustered heatmap.\n",
    "\n",
    "**Regression Plots:**\n",
    "\n",
    "sns.regplot(): Create scatter plots with a regression line.\n",
    "\n",
    "sns.lmplot(): Create scatter plots with regression fits.\n",
    "\n",
    "sns.residplot(): Create residual plots.\n",
    "\n",
    "**Pair Plots and Correlation:**\n",
    "\n",
    "sns.pairplot(): Create pair plots for multiple variables.\n",
    "\n",
    "sns.corrplot(): Create a correlation plot (deprecated in newer Seaborn versions, use sns.heatmap() for correlation matrices).\n",
    "\n",
    "**FacetGrids and Subplots:**\n",
    "\n",
    "sns.FacetGrid(): Create a grid of subplots based on one or more categorical variables.\n",
    "\n",
    "FacetGrid.map(): Apply plotting functions to each subset of the data.\n",
    "\n",
    "**Time Series Plots:**\n",
    "\n",
    "sns.lineplot(): Create line plots for time series data.\n",
    "\n",
    "sns.tsplot(): Create time series plots (deprecated in newer Seaborn versions, use sns.lineplot()).\n",
    "\n",
    "**Axis and Styling Control:**\n",
    "\n",
    "sns.set(): Set global styling parameters.\n",
    "\n",
    "sns.set_style(): Set the overall style of plots.\n",
    "sns.set_context(): Set the context for plot elements (e.g., paper, notebook).\n",
    "sns.set_palette(): Set the color palette for plots.\n",
    "sns.despine(): Remove spines (axes lines) from plots.\n",
    "sns.set_title(), sns.set_xlabel(), sns.set_ylabel(): Set plot titles and axis labels.\n",
    "\n",
    "**Miscellaneous:**\n",
    "\n",
    "sns.color_palette(): Define custom color palettes.\n",
    "\n",
    "sns.choose_colorbrewer_palette(): Choose color palettes from ColorBrewer.\n",
    "\n",
    "sns.mpl_palette(): Create Matplotlib-compatible color palettes."
   ]
  },
  {
   "cell_type": "code",
   "execution_count": null,
   "metadata": {
    "colab": {
     "base_uri": "https://localhost:8080/",
     "height": 480
    },
    "id": "8RoB6AEhuDy6",
    "outputId": "a20bcaf2-9b4a-4966-a293-f79cfd03faaa"
   },
   "outputs": [
    {
     "data": {
      "image/png": "[encoded data removed]",
      "text/plain": [
       "<Figure size 640x480 with 1 Axes>"
      ]
     },
     "metadata": {},
     "output_type": "display_data"
    }
   ],
   "source": [
    "import seaborn as sns\n",
    "import pandas as pd\n",
    "import numpy as np\n",
    "\n",
    "# Create a sample dataset\n",
    "data = pd.DataFrame({\n",
    "    'Category': ['A', 'B', 'C', 'A', 'B', 'C'],\n",
    "    'Value1': np.random.randn(6),\n",
    "    'Value2': np.random.randn(6)\n",
    "})\n",
    "\n",
    "# Create a bar plot with custom color palette\n",
    "sns.set(style=\"whitegrid\")  # Set the plot style\n",
    "sns.barplot(x=\"Category\", y=\"Value1\", data=data, palette=\"Blues_d\")\n",
    "\n",
    "# Customize the plot\n",
    "sns.despine(left=True)  # Remove left spine\n",
    "plt.title(\"Bar Plot with Seaborn\")\n",
    "plt.xlabel(\"Category\")\n",
    "plt.ylabel(\"Value\")\n",
    "\n",
    "# Create a violin plot for Value2\n",
    "sns.violinplot(x=\"Category\", y=\"Value2\", data=data, palette=\"pastel\")\n",
    "\n",
    "# Show the plots\n",
    "plt.show()"
   ]
  },
  {
   "cell_type": "markdown",
   "metadata": {
    "id": "lej-1lH-05LS"
   },
   "source": [
    "#SciPy\n",
    "\n",
    "**SciPy** is an open-source library in Python that is built on top of NumPy and provides additional functionality for scientific and technical computing.\n",
    "\n",
    "**Integration (scipy.integrate):**\n",
    "\n",
    "quad(): Numerical integration (quadrature).\n",
    "\n",
    "dblquad(): Double integration.\n",
    "\n",
    "tplquad(): Triple integration.\n",
    "\n",
    "nquad(): N-dimensional integration.\n",
    "\n",
    "**Optimization (scipy.optimize):**\n",
    "\n",
    "minimize():Minimization of scalar functions.\n",
    "\n",
    "minimize_scalar(): Minimization of scalar functions of one variable.\n",
    "\n",
    "root(): Solving equations and systems of equations.\n",
    "\n",
    "linprog(): Linear programming.\n",
    "\n",
    "**Interpolation (scipy.interpolate):**\n",
    "\n",
    "interp1d(): 1-D interpolation (linear, cubic, etc.).\n",
    "\n",
    "Interp2d(): 2-D interpolation.\n",
    "\n",
    "RectBivariateSpline(): Bivariate spline interpolation.\n",
    "\n",
    "**Linear Algebra (scipy.linalg):**\n",
    "\n",
    "solve(): Solve linear equations.\n",
    "\n",
    "eig(): Eigenvalues and eigenvectors.\n",
    "\n",
    "svd(): Singular value decomposition.\n",
    "\n",
    "lu(): LU decomposition.\n",
    "\n",
    "**Statistics (scipy.stats):**\n",
    "\n",
    "Probability distributions (e.g., norm, expon, binom).\n",
    "\n",
    "Hypothesis tests (ttest, chi2_contingency, etc.).\n",
    "\n",
    "Statistical functions (mean, median, var, std, etc.).\n",
    "\n",
    "**Signal Processing (scipy.signal):**\n",
    "\n",
    "convolve(): Convolution and cross-correlation.\n",
    "\n",
    "lfilter(): Linear filtering on time series data.\n",
    "\n",
    "spectrogram(): Compute a spectrogram of data.\n",
    "\n",
    "**Sparse Linear Algebra (scipy.sparse):**\n",
    "\n",
    "Sparse matrix data structures (e.g., csr_matrix, csc_matrix).\n",
    "\n",
    "Sparse linear algebra operations (e.g., spsolve, eigs).\n",
    "\n",
    "**Special Functions (scipy.special):**\n",
    "Special mathematical functions (e.g., gamma, beta, bessel, etc.)."
   ]
  },
  {
   "cell_type": "code",
   "execution_count": 1,
   "metadata": {
    "colab": {
     "base_uri": "https://localhost:8080/"
    },
    "id": "JsxGd6TZ1naF",
    "outputId": "715cbc89-5cbd-4e5c-b5eb-b5c9a74cd19d"
   },
   "outputs": [
    {
     "name": "stdout",
     "output_type": "stream",
     "text": [
      "Roots found by SciPy:\n",
      "Root 1: 0.9999999999999993\n",
      "Root 2: 1.0\n",
      "Root 3: 2.0\n"
     ]
    }
   ],
   "source": [
    "import numpy as np\n",
    "from scipy.optimize import root\n",
    "\n",
    "# Define a mathematical function whose roots we want to find\n",
    "def equation(x):\n",
    "    return x**3 - 6*x**2 + 11*x - 6\n",
    "\n",
    "# Use SciPy's root function to find the roots of the equation\n",
    "initial_guesses = [0, 1, 2]  # Initial guesses for the roots\n",
    "result = root(equation, initial_guesses)\n",
    "\n",
    "# Print the results\n",
    "print(\"Roots found by SciPy:\")\n",
    "print(\"Root 1:\", result.x[0])\n",
    "print(\"Root 2:\", result.x[1])\n",
    "print(\"Root 3:\", result.x[2])\n"
   ]
  },
  {
   "cell_type": "markdown",
   "metadata": {
    "id": "nmpvpCRqmfS9"
   },
   "source": [
    "We import NumPy to create arrays for mathematical calculations and SciPy's root function for finding roots.\n",
    "\n",
    "We define a mathematical function equation(x) for which we want to find the roots. In this example, we're finding the roots of a cubic equation.\n",
    "\n",
    "We provide an initial guess for the roots in the initial_guesses list.\n",
    "\n",
    "We use SciPy's root function to find the roots of the equation, passing the equation function and the initial guesses as arguments.\n",
    "\n",
    "Finally, we print the roots that SciPy has found."
   ]
  },
  {
   "cell_type": "code",
   "execution_count": null,
   "metadata": {
    "id": "pWe48KyymUs9"
   },
   "outputs": [],
   "source": []
  }
 ],
 "metadata": {
  "colab": {
   "provenance": []
  },
  "kernelspec": {
   "display_name": "Python 3 (ipykernel)",
   "language": "python",
   "name": "python3"
  },
  "language_info": {
   "codemirror_mode": {
    "name": "ipython",
    "version": 3
   },
   "file_extension": ".py",
   "mimetype": "text/x-python",
   "name": "python",
   "nbconvert_exporter": "python",
   "pygments_lexer": "ipython3",
   "version": "3.11.5"
  }
 },
 "nbformat": 4,
 "nbformat_minor": 1
}
