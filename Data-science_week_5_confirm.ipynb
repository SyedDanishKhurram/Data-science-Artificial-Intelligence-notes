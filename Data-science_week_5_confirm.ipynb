{
  "nbformat": 4,
  "nbformat_minor": 0,
  "metadata": {
    "colab": {
      "provenance": []
    },
    "kernelspec": {
      "name": "python3",
      "display_name": "Python 3"
    },
    "language_info": {
      "name": "python"
    }
  },
  "cells": [
    {
      "cell_type": "markdown",
      "source": [
        "**Week5**\n",
        "#Introduction to SQL\n",
        "#Introduction to SQL ++\n",
        "**DDL**\n",
        "\n",
        "**DML**\n",
        "\n",
        "**WHERE Statements**\n",
        "\n",
        "**Different Types of Joins**\n",
        "\n",
        "**SubQueries**\n",
        "\n",
        "**Union**\n",
        "\n",
        "**Intersect**\n",
        "\n",
        "**Triggers**\n",
        "\n",
        "**Stored Procedures**\n",
        "\n",
        "**Wildcards**\n",
        "\n",
        "**CTEs**"
      ],
      "metadata": {
        "id": "F12y8XQu5Ahy"
      }
    },
    {
      "cell_type": "code",
      "execution_count": null,
      "metadata": {
        "id": "ZZDILM7e4mfu"
      },
      "outputs": [],
      "source": [
        "import sqlite3"
      ]
    },
    {
      "cell_type": "markdown",
      "source": [
        "# DDL\n",
        "DDL stands for \"Data Definition Language\" in SQL. It is a subset of SQL statements used to define and manage the structure of a database, including creating, altering, and deleting database objects like tables, indexes, and views. DDL statements are not used to manipulate or retrieve data; instead, they are used to specify how data should be stored and organized within a database.\n",
        "\n",
        "SQL stands for Structure Query Language"
      ],
      "metadata": {
        "id": "RBpcpdFl6YEp"
      }
    },
    {
      "cell_type": "code",
      "source": [],
      "metadata": {
        "id": "-TATa7M46bVM"
      },
      "execution_count": null,
      "outputs": []
    },
    {
      "cell_type": "markdown",
      "source": [
        "**Create**\n",
        "\n",
        "This statement is used to create new database objects such as tables, indexes, views, and schemas.\n"
      ],
      "metadata": {
        "id": "9Gn7H_1-7Ysn"
      }
    },
    {
      "cell_type": "code",
      "source": [
        "CREATE TABLE Customers (\n",
        "    CustomerID INT PRIMARY KEY,\n",
        "    FirstName VARCHAR(50),\n",
        "    LastName VARCHAR(50),\n",
        "    Email VARCHAR(100)\n",
        ");\n"
      ],
      "metadata": {
        "id": "EJOT1k3X7bkO"
      },
      "execution_count": null,
      "outputs": []
    },
    {
      "cell_type": "markdown",
      "source": [
        "**Alter**\n",
        "\n",
        "The ALTER statement is used to modify the structure of existing database objects. You can use it to add, modify, or delete columns, constraints, or other properties of a table."
      ],
      "metadata": {
        "id": "RbEdD1pg8k25"
      }
    },
    {
      "cell_type": "code",
      "source": [
        "ALTER TABLE Customers\n",
        "ADD PhoneNumber VARCHAR(20);\n"
      ],
      "metadata": {
        "id": "p7RIhQqd7eFz"
      },
      "execution_count": null,
      "outputs": []
    },
    {
      "cell_type": "markdown",
      "source": [
        "**DROP**\n",
        "\n",
        "The DROP statement is used to delete existing database objects like tables, indexes, or views."
      ],
      "metadata": {
        "id": "KI3P-MkK9N0B"
      }
    },
    {
      "cell_type": "code",
      "source": [
        "DROP TABLE Customers;\n"
      ],
      "metadata": {
        "id": "m-SHk3wI9UTM"
      },
      "execution_count": null,
      "outputs": []
    },
    {
      "cell_type": "markdown",
      "source": [
        "**Truncate**\n",
        "\n",
        "This statement is used to quickly remove all rows from a table, effectively resetting it without deleting the table structure itself."
      ],
      "metadata": {
        "id": "yNxNmzBp9aR9"
      }
    },
    {
      "cell_type": "code",
      "source": [
        "TRUNCATE TABLE Customers;\n"
      ],
      "metadata": {
        "id": "bIoYg7qP9aG4"
      },
      "execution_count": null,
      "outputs": []
    },
    {
      "cell_type": "markdown",
      "source": [
        "**Rename**\n",
        "some database management systems support the RENAME statement to change the name of a database object."
      ],
      "metadata": {
        "id": "ABJKtrOQ9Z6Y"
      }
    },
    {
      "cell_type": "code",
      "source": [
        "RENAME TABLE Customers TO Clients;\n"
      ],
      "metadata": {
        "id": "7vJ1kvK9yRjZ"
      },
      "execution_count": null,
      "outputs": []
    },
    {
      "cell_type": "markdown",
      "source": [
        "#DML\n",
        "DML stands for \"Data Manipulation Language\" in SQL. Unlike DDL (Data Definition Language), which is used to define and manage the structure of a database, DML is used to interact with and manipulate the data stored within a database. DML consists of SQL statements that allow you to perform operations such as querying, inserting, updating, and deleting data in a database. Some common DML statements include:"
      ],
      "metadata": {
        "id": "bpgScvSmGiFh"
      }
    },
    {
      "cell_type": "code",
      "source": [
        "\n"
      ],
      "metadata": {
        "id": "_EoVgK7G5FIe"
      },
      "execution_count": null,
      "outputs": []
    },
    {
      "cell_type": "markdown",
      "source": [
        "**SELECT**: The SELECT statement is used to retrieve data from one or more tables. It allows you to specify the columns you want to retrieve and apply various filtering and sorting criteria."
      ],
      "metadata": {
        "id": "TkMSATp2J4c-"
      }
    },
    {
      "cell_type": "code",
      "source": [
        "SELECT column1, column2\n",
        "FROM table_name\n",
        "WHERE condition;\n"
      ],
      "metadata": {
        "id": "K_F94ES-5RnN"
      },
      "execution_count": null,
      "outputs": []
    },
    {
      "cell_type": "markdown",
      "source": [
        "**INSERT:** The INSERT statement is used to add new rows of data into a table."
      ],
      "metadata": {
        "id": "Zn6IyyLlNmi-"
      }
    },
    {
      "cell_type": "code",
      "source": [
        "INSERT INTO table_name (column1, column2)\n",
        "VALUES (value1, value2);\n"
      ],
      "metadata": {
        "id": "bwZMvLcj5R7A"
      },
      "execution_count": null,
      "outputs": []
    },
    {
      "cell_type": "markdown",
      "source": [
        "**UPDATE:** The UPDATE statement is used to modify existing data in a table based on a specified condition."
      ],
      "metadata": {
        "id": "r0jbeZWbQNBe"
      }
    },
    {
      "cell_type": "code",
      "source": [
        "UPDATE table_name\n",
        "SET column1 = new_value1\n",
        "WHERE condition;"
      ],
      "metadata": {
        "id": "rKgLAHmdaM0x"
      },
      "execution_count": null,
      "outputs": []
    },
    {
      "cell_type": "markdown",
      "source": [
        "**DELETE:** The DELETE statement is used to remove rows from a table based on a specified condition."
      ],
      "metadata": {
        "id": "yTpSPTSEaPPo"
      }
    },
    {
      "cell_type": "code",
      "source": [
        "DELETE FROM table_name\n",
        "WHERE condition;"
      ],
      "metadata": {
        "id": "BttDDcJuaSm7"
      },
      "execution_count": null,
      "outputs": []
    },
    {
      "cell_type": "markdown",
      "source": [
        "to select all the fields from one table we use *\n",
        "to save reult we use as creat veiw"
      ],
      "metadata": {
        "id": "sTAtY1XizkxA"
      }
    },
    {
      "cell_type": "markdown",
      "source": [
        "**Wildcard**\n",
        "\n",
        "to use this wild card we will be using * character it selects all the"
      ],
      "metadata": {
        "id": "zCTG_lx3-2HL"
      }
    },
    {
      "cell_type": "code",
      "source": [
        "# Find all customers whose names start with 'J'\n",
        "SELECT * FROM customers WHERE customer_name LIKE 'J%';\n",
        "\n",
        "# Find all products containing 'widget' in their name\n",
        "SELECT * FROM products WHERE product_name LIKE '%widget%';\n",
        "\n",
        "#Find all email addresses ending in '.com'\n",
        "SELECT * FROM email_addresses WHERE email LIKE '%.com';\n",
        "\n",
        "# Find all words that start with 'c' and have three characters\n",
        "SELECT * FROM words WHERE word LIKE 'c__';\n"
      ],
      "metadata": {
        "id": "Mbcp_JBW_z5S"
      },
      "execution_count": null,
      "outputs": []
    },
    {
      "cell_type": "markdown",
      "source": [
        "**Percent Sign (%) Wildcard**: The percent sign (%) is used to match any sequence of characters (including zero characters) within a string. It can be used to represent any number of characters at a particular position in a string.\n",
        "\n",
        "LIKE 'a%' matches any string that starts with the letter 'a'.\n",
        "LIKE '%ing' matches any string that ends with 'ing'.\n",
        "LIKE '%book%' matches any string containing the substring 'book' anywhere within it.\n",
        "\n",
        "**Underscore (_) Wildcard**:\n",
        "\n",
        " The underscore (_) is used to match any single character within a string. It represents a single character placeholder.\n",
        "\n",
        "LIKE '_pple' matches 'apple', 'apply', but not 'apples'.\n",
        "LIKE 'T_m' matches 'Tom', 'Tim', but not 'Tome' or 'Tomm'."
      ],
      "metadata": {
        "id": "R7A5ffan_59z"
      }
    },
    {
      "cell_type": "markdown",
      "source": [
        "#Where Statement\n",
        "In order to filter rows from a table according to a certain criterion or group of conditions, use the WHERE clause. Instead of retrieving all rows from a table, it enables you to simply retrieve the rows that satisfy particular requirements. The SELECT, UPDATE, DELETE, and INSERT INTO statements are just a few examples of how the WHERE clause is utilized in SQL queries.\n"
      ],
      "metadata": {
        "id": "cS85uWZ-FTjk"
      }
    },
    {
      "cell_type": "code",
      "source": [
        "SELECT column1, column2, ...\n",
        "FROM table_name\n",
        "WHERE condition;\n"
      ],
      "metadata": {
        "id": "3M437IPmFhF4"
      },
      "execution_count": null,
      "outputs": []
    },
    {
      "cell_type": "markdown",
      "source": [
        "example\n"
      ],
      "metadata": {
        "id": "c4OB_L6qFuDb"
      }
    },
    {
      "cell_type": "code",
      "source": [
        "SELECT * FROM customers WHERE last_name = 'Smith';\n"
      ],
      "metadata": {
        "id": "FtPQXeNsFtxV"
      },
      "execution_count": null,
      "outputs": []
    },
    {
      "cell_type": "code",
      "source": [
        "SELECT * FROM products WHERE price < 50;\n"
      ],
      "metadata": {
        "id": "Z-zfahSqFwaF"
      },
      "execution_count": null,
      "outputs": []
    },
    {
      "cell_type": "code",
      "source": [
        "SELECT * FROM employees WHERE hire_date > '2022-01-01';\n"
      ],
      "metadata": {
        "id": "_zGGa4_aFzNs"
      },
      "execution_count": null,
      "outputs": []
    },
    {
      "cell_type": "code",
      "source": [
        "SELECT * FROM orders WHERE customer_id = 123;\n"
      ],
      "metadata": {
        "id": "sjVjewi1F04M"
      },
      "execution_count": null,
      "outputs": []
    },
    {
      "cell_type": "markdown",
      "source": [
        "#DIFFERENT TYPE OF JOINS\n",
        "INNER JOIN (or EQUIJOIN)\n",
        "\n",
        "LEFT JOIN (or LEFT OUTER JOIN)\n",
        "\n",
        "RIGHT JOIN (or RIGHT OUTER JOIN):\n",
        "\n",
        "FULL JOIN (or FULL OUTER JOIN)\n",
        "\n",
        "CROSS JOIN (or CARTESIAN JOIN):\n",
        "\n",
        "SELF JOIN\n"
      ],
      "metadata": {
        "id": "xu3Iok5yGHhk"
      }
    },
    {
      "cell_type": "code",
      "source": [],
      "metadata": {
        "id": "mIblmaQbF29N"
      },
      "execution_count": null,
      "outputs": []
    },
    {
      "cell_type": "markdown",
      "source": [
        "\n",
        "\n",
        "*   **INNER JOIN** An inner join returns only the rows that have matching values in both tables being joined. It filters out rows that do not have corresponding matches in the other table.\n",
        "\n",
        "\n"
      ],
      "metadata": {
        "id": "_735667ZGocM"
      }
    },
    {
      "cell_type": "code",
      "source": [
        "SELECT employees.name, departments.department_name\n",
        "FROM employees\n",
        "INNER JOIN departments ON employees.department_id = departments.department_id;\n"
      ],
      "metadata": {
        "id": "e6pZ6TJDGuyI"
      },
      "execution_count": null,
      "outputs": []
    },
    {
      "cell_type": "markdown",
      "source": [
        "* **LEFT JOIN**\n",
        "A left join returns all rows from the left table and the matching rows from the right table. If there is no match in the right table, NULL values are returned for columns from the right table."
      ],
      "metadata": {
        "id": "T_ULrXtqGwwE"
      }
    },
    {
      "cell_type": "code",
      "source": [
        "SELECT customers.customer_name, orders.order_date\n",
        "FROM customers\n",
        "LEFT JOIN orders ON customers.customer_id = orders.customer_id;\n"
      ],
      "metadata": {
        "id": "B3v1woHFGznj"
      },
      "execution_count": null,
      "outputs": []
    },
    {
      "cell_type": "markdown",
      "source": [
        "* **RIGHT JOIN**\n",
        " A right join is the reverse of a left join. It returns all rows from the right table and the matching rows from the left table. If there is no match in the left table, NULL values are returned for columns from the left table."
      ],
      "metadata": {
        "id": "BkyRAYQMG168"
      }
    },
    {
      "cell_type": "code",
      "source": [
        "SELECT orders.order_date, order_items.product_name\n",
        "FROM orders\n",
        "RIGHT JOIN order_items ON orders.order_id = order_items.order_id;\n"
      ],
      "metadata": {
        "id": "1pDNWGk3G8Os"
      },
      "execution_count": null,
      "outputs": []
    },
    {
      "cell_type": "markdown",
      "source": [
        "\n",
        "*   **FULL JOIN (or FULL OUTER JOIN):**\n",
        "A full join returns all rows from both the left and right tables. If there is no match in either table, NULL values are returned for columns from the table without a match."
      ],
      "metadata": {
        "id": "7j8yWFCpG_cc"
      }
    },
    {
      "cell_type": "code",
      "source": [
        "SELECT customers.customer_name, orders.order_date\n",
        "FROM customers\n",
        "FULL JOIN orders ON customers.customer_id = orders.customer_id;\n"
      ],
      "metadata": {
        "id": "zTDzDo9kG7ub"
      },
      "execution_count": null,
      "outputs": []
    },
    {
      "cell_type": "markdown",
      "source": [
        "*  **CROSS JOIN (or CARTESIAN JOIN):**\n",
        " A cross join returns the Cartesian product of two tables, which means it combines each row from the first table with every row from the second table. It results in a large number of rows, and it's typically used for specific purposes, such as generating combinations."
      ],
      "metadata": {
        "id": "Q_H6G22dHJ6M"
      }
    },
    {
      "cell_type": "code",
      "source": [
        "SELECT products.product_name, suppliers.supplier_name\n",
        "FROM products\n",
        "CROSS JOIN suppliers;\n"
      ],
      "metadata": {
        "id": "HlxuESYWHQJz"
      },
      "execution_count": null,
      "outputs": []
    },
    {
      "cell_type": "markdown",
      "source": [
        "*   **SELF JOIN:**\n",
        "A self join is when a table is joined with itself. It's useful when you have a hierarchical or recursive relationship within a single table.\n"
      ],
      "metadata": {
        "id": "N1MeYD8uHcu0"
      }
    },
    {
      "cell_type": "code",
      "source": [
        "SELECT e1.employee_name, e2.manager_name\n",
        "FROM employees e1\n",
        "INNER JOIN employees e2 ON e1.manager_id = e2.employee_id;\n"
      ],
      "metadata": {
        "id": "YVN3Rk2KHmK5"
      },
      "execution_count": null,
      "outputs": []
    },
    {
      "cell_type": "code",
      "source": [],
      "metadata": {
        "id": "1SU-nZ4hHnto"
      },
      "execution_count": null,
      "outputs": []
    },
    {
      "cell_type": "markdown",
      "source": [
        "#UNION\n",
        "\n",
        "UNION operator is used to combine the result sets of two or more SELECT queries into a single result set. It is often used when you want to retrieve data from multiple tables or queries and present the results as a unified set of rows. The UNION operator removes duplicate rows by default, but you can use UNION ALL to include duplicate rows as well."
      ],
      "metadata": {
        "id": "w-JtAxvqJAI9"
      }
    },
    {
      "cell_type": "code",
      "source": [
        "#Combine results of two queries to retrieve a list of all employees and customers.\n",
        "SELECT employee_id AS id, employee_name AS name, 'Employee' AS type\n",
        "FROM employees\n",
        "UNION\n",
        "SELECT customer_id AS id, customer_name AS name, 'Customer' AS type\n",
        "FROM customers;\n"
      ],
      "metadata": {
        "id": "li4gexZmJDp1"
      },
      "execution_count": null,
      "outputs": []
    },
    {
      "cell_type": "markdown",
      "source": [
        "#INTERSECT\n",
        "\n",
        "The INTERSECT operator compares the result sets produced by the specified SELECT queries and returns only the rows that exist in all of them."
      ],
      "metadata": {
        "id": "0r2FR2hNJXxV"
      }
    },
    {
      "cell_type": "code",
      "source": [
        "SELECT column1, column2, ...\n",
        "FROM table1\n",
        "INTERSECT\n",
        "SELECT column1, column2, ...\n",
        "FROM table2;\n"
      ],
      "metadata": {
        "id": "5cwyeYN2Jrxo"
      },
      "execution_count": null,
      "outputs": []
    },
    {
      "cell_type": "markdown",
      "source": [
        "#Stored Procedure\n",
        "\n",
        "**Modularity:** Stored procedures promote modularity and code reusability\n",
        "\n",
        "**Security:** Stored procedures can be used to control access to data and database operations.\n",
        "\n",
        "**Performance:** Stored procedures are precompiled and optimized by the DBMS, which can lead to improved performance compared to executing ad-hoc SQL statements.\n",
        "\n",
        "**Data Integrity:**They help enforce data integrity rules and business logic within the database.\n",
        "\n",
        "**Transaction Control:**Stored procedures can be used to group multiple SQL statements into a single transaction, allowing you to ensure data consistency and integrity even in complex operations.\n",
        "\n",
        "**Reduced Network Traffic:**Since stored procedures are executed on the database server itself, they can reduce the amount of data transferred over the network, especially for data-intensive operations.\n",
        "\n",
        "**Parameterization:**Stored procedures can accept input parameters, making them flexible and adaptable to different scenarios. This parameterization allows for dynamic queries and condition-based operations.\n",
        "\n",
        "**Error Handling:** Stored procedures can include error-handling logic, allowing you to handle exceptions and errors gracefully.\n"
      ],
      "metadata": {
        "id": "MvBl795RKISN"
      }
    },
    {
      "cell_type": "code",
      "source": [
        "CREATE PROCEDURE GetEmployeeDetails (@EmployeeID INT)\n",
        "AS\n",
        "BEGIN\n",
        "    SELECT EmployeeName, Department\n",
        "    FROM Employees\n",
        "    WHERE EmployeeID = @EmployeeID;\n",
        "END;\n"
      ],
      "metadata": {
        "id": "QFsgK8TFLI0R"
      },
      "execution_count": null,
      "outputs": []
    },
    {
      "cell_type": "markdown",
      "source": [
        " the stored procedure GetEmployeeDetails accepts an EmployeeID parameter and returns the name and department of the employee with that ID from the \"Employees\" table.\n",
        "\n",
        "To execute a stored procedure, you typically use a CALL or EXECUTE statement, depending on the DBMS you are using:"
      ],
      "metadata": {
        "id": "Kd5HjfVVLOoO"
      }
    },
    {
      "cell_type": "code",
      "source": [
        "-- Calling the stored procedure\n",
        "EXECUTE GetEmployeeDetails;\n"
      ],
      "metadata": {
        "id": "6x3Mkm6iLVX-"
      },
      "execution_count": null,
      "outputs": []
    },
    {
      "cell_type": "markdown",
      "source": [
        "# CTEs\n",
        "\n",
        "CTEs provide a way to simplify complex SQL queries, break them into smaller, more manageable parts, and improve query readability"
      ],
      "metadata": {
        "id": "JQFD4WIOLU0-"
      }
    },
    {
      "cell_type": "markdown",
      "source": [
        "Basic structure"
      ],
      "metadata": {
        "id": "02arz7PTLux2"
      }
    },
    {
      "cell_type": "code",
      "source": [
        "WITH cte_name (column1, column2, ...) AS (\n",
        "    -- CTE query definition here\n",
        ")\n",
        "-- Main query that uses the CTE\n",
        "SELECT ...\n",
        "FROM cte_name\n",
        "WHERE ...\n"
      ],
      "metadata": {
        "id": "gRuqZRZ0LtG4"
      },
      "execution_count": null,
      "outputs": []
    },
    {
      "cell_type": "markdown",
      "source": [
        "Orders\n",
        "order_id\titem\t    amount\tcustomer_id\n",
        "\n",
        "1\t      Keyboard\t   400     \t4\n",
        "\n",
        "2\t       Mouse\t     300\t    4\n",
        "\n",
        "3\t      Monitor\t    12000\t    3\n",
        "\n",
        "4     \tKeyboard\t   400\t    1\n",
        "\n",
        "5       Mousepad     250    \t2\n",
        "\n",
        "this the table"
      ],
      "metadata": {
        "id": "DXr1Xhhp0zD5"
      }
    },
    {
      "cell_type": "code",
      "source": [
        "-- Define a Common Table Expression (CTE) named \"CustomerTotalSpent\"\n",
        "WITH CustomerTotalSpent AS (\n",
        "    SELECT\n",
        "        customer_id,\n",
        "        SUM(amount) AS total_amount_spent\n",
        "    FROM\n",
        "        Orders\n",
        "    GROUP BY\n",
        "        customer_id\n",
        ")\n",
        "\n",
        "-- Now, you can query the CTE\n",
        "SELECT\n",
        "    c.customer_id,\n",
        "    c.total_amount_spent,\n",
        "    o.item\n",
        "FROM\n",
        "    CustomerTotalSpent c\n",
        "JOIN\n",
        "    Orders o ON c.customer_id = o.customer_id\n",
        "ORDER BY\n",
        "    c.customer_id;"
      ],
      "metadata": {
        "id": "mNk3xcOR03la"
      },
      "execution_count": null,
      "outputs": []
    },
    {
      "cell_type": "markdown",
      "source": [
        "![CTES solution.PNG](data:image/png;base64,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)"
      ],
      "metadata": {
        "id": "p5VXMLtT1THB"
      }
    },
    {
      "cell_type": "code",
      "source": [],
      "metadata": {
        "id": "ttgkuK891fXC"
      },
      "execution_count": null,
      "outputs": []
    }
  ]
}