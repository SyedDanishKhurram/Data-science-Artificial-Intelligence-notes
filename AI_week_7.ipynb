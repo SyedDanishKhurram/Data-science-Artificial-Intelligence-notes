{
  "nbformat": 4,
  "nbformat_minor": 0,
  "metadata": {
    "colab": {
      "provenance": [],
      "authorship_tag": "ABX9TyMhin9mOfA87NR43UmRGPmC",
      "include_colab_link": true
    },
    "kernelspec": {
      "name": "python3",
      "display_name": "Python 3"
    },
    "language_info": {
      "name": "python"
    }
  },
  "cells": [
    {
      "cell_type": "markdown",
      "metadata": {
        "id": "view-in-github",
        "colab_type": "text"
      },
      "source": [
        "<a href=\"https://colab.research.google.com/github/SyedDanishKhurram/Data-science-notes/blob/main/AI_week_7.ipynb\" target=\"_parent\"><img src=\"https://colab.research.google.com/assets/colab-badge.svg\" alt=\"Open In Colab\"/></a>"
      ]
    },
    {
      "cell_type": "markdown",
      "source": [
        "**WEEK 7**\n",
        "# Data Engineering Advance\n",
        "Assignment 1,2,3 Solution Discussion\n",
        "* Datawarehouse\n",
        "* DataMart’s\n",
        "* OLTP vs OLAP\n",
        "* ELT vs ETL\n",
        "* SIT vs STAGE vs PROD"
      ],
      "metadata": {
        "id": "sCIxjPBewzDe"
      }
    },
    {
      "cell_type": "code",
      "execution_count": null,
      "metadata": {
        "id": "bf-oIc3YwoQu"
      },
      "outputs": [],
      "source": []
    },
    {
      "cell_type": "markdown",
      "source": [
        "## **Data Warehouse:**\n",
        "\n",
        "* A Data Warehouse is a centralized repository for storing and managing large volumes of data from various sources. It is typically used for reporting, analysis, and business intelligence purposes.\n",
        "* Language: Data warehouses can be implemented using various technologies and databases, and SQL (Structured Query Language) is commonly used for querying and extracting data from data warehouses."
      ],
      "metadata": {
        "id": "OCEDzVAGswSH"
      }
    },
    {
      "cell_type": "code",
      "source": [],
      "metadata": {
        "id": "-dJ5T1yDsvqA"
      },
      "execution_count": null,
      "outputs": []
    },
    {
      "cell_type": "markdown",
      "source": [
        "# **Data Mart:**\n",
        "\n",
        "* A Data Mart is a subset of a data warehouse that is designed to serve the needs of a specific group or department within an organization. It contains a focused set of data relevant to a particular business area.\n",
        "* Language: Like data warehouses, data marts also often use SQL for querying and extracting data."
      ],
      "metadata": {
        "id": "KrBzS8u8s-bP"
      }
    },
    {
      "cell_type": "code",
      "source": [],
      "metadata": {
        "id": "GuPm_nQ3tAvK"
      },
      "execution_count": null,
      "outputs": []
    },
    {
      "cell_type": "markdown",
      "source": [
        "# **OLTP vs. OLAP:**\n",
        "\n",
        "**OLTP (Online Transaction Processing):**\n",
        "\n",
        "**Definition:** OLTP systems are designed for transactional processing and support day-to-day operational activities, such as order processing, inventory management, and customer interactions. They are characterized by many small, frequent transactions.\n",
        "\n",
        "**Programming Language:** OLTP systems typically involve application development using various programming languages like Java, C#, Python, etc., depending on the technology stack used.\n",
        "\n",
        "**OLAP (Online Analytical Processing):**\n",
        "\n",
        "**Definition:**  OLAP systems are designed for complex queries and reporting. They organize data for multidimensional analysis, enabling users to gain insights from historical data. OLAP queries are usually less frequent but involve complex aggregations and calculations.\n",
        "\n",
        "**Programming Language:** OLAP systems often use SQL for querying data warehouses or data marts. Tools like MDX (Multidimensional Expressions) may also be used for OLAP cube queries."
      ],
      "metadata": {
        "id": "I_87AppotC5_"
      }
    },
    {
      "cell_type": "code",
      "source": [],
      "metadata": {
        "id": "zGPRSvUxtK5-"
      },
      "execution_count": null,
      "outputs": []
    },
    {
      "cell_type": "markdown",
      "source": [
        "# **ETL vs. ELT:**\n",
        "\n",
        "**ETL (Extract, Transform, Load):**\n",
        "\n",
        "* **Definition:** ETL is a data integration process where data is first extracted from source systems, then transformed into the desired format, and finally loaded into a target data warehouse or data mart.\n",
        "\n",
        "* **Programming Language:** ETL processes can involve programming languages like Python, Java, or specialized ETL tools like Apache Nifi, Talend, and Informatica.\n",
        "\n",
        "**ELT (Extract, Load, Transform):**\n",
        "\n",
        " * **Definition:** ELT is a data integration process where data is first extracted from source systems and loaded directly into a data warehouse, often in its raw form. Transformation and data processing occur within the data warehouse after loading.\n",
        "\n",
        "* **Programming Language:** ELT processes also involve SQL for transformations and can utilize database-specific languages for data processing within the data warehouse."
      ],
      "metadata": {
        "id": "W4hAZXuStLc3"
      }
    },
    {
      "cell_type": "code",
      "source": [],
      "metadata": {
        "id": "OviwzEiHtRdG"
      },
      "execution_count": null,
      "outputs": []
    },
    {
      "cell_type": "markdown",
      "source": [
        "# **SIT vs. STAGE vs. PROD:**\n",
        "\n",
        "# SIT (System Integration Testing):\n",
        "\n",
        "**Definition:** SIT is a phase in the software development lifecycle where individual software components or systems are tested together to ensure they work as intended within an integrated environment.\n",
        "\n",
        "**Programming Language:** SIT primarily involves testing tools and scripts, which may be written in various languages, depending on the testing framework.\n",
        "# STAGE (Staging Environment):\n",
        "\n",
        "**Definition:** A staging environment is a pre-production environment that mimics the production environment. It's used for testing and validating changes to ensure they won't disrupt the production system.\n",
        "\n",
        "**Programming Language:** Staging environments typically involve configuration and deployment scripts, which can be written in languages suitable for the deployment and infrastructure, such as shell scripting, Python, or others.\n",
        "\n",
        "# PROD (Production Environment):\n",
        "\n",
        "**Definition:** The production environment is the live, operational environment where the actual software or system is used by end-users to perform business functions.\n",
        "\n",
        "**Programming Language:** The programming languages used in the production environment depend on the technology stack and software applications deployed but can include a wide range of languages like Java, C++, Python, and more."
      ],
      "metadata": {
        "id": "HNC086pbuluv"
      }
    },
    {
      "cell_type": "code",
      "source": [],
      "metadata": {
        "id": "uRQDP_9hu-yP"
      },
      "execution_count": null,
      "outputs": []
    }
  ]
}