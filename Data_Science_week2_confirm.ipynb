{
  "nbformat": 4,
  "nbformat_minor": 0,
  "metadata": {
    "colab": {
      "provenance": [],
      "include_colab_link": true
    },
    "kernelspec": {
      "name": "python3",
      "display_name": "Python 3"
    },
    "language_info": {
      "name": "python"
    }
  },
  "cells": [
    {
      "cell_type": "markdown",
      "metadata": {
        "id": "view-in-github",
        "colab_type": "text"
      },
      "source": [
        "<a href=\"https://colab.research.google.com/github/SyedDanishKhurram/Data-science-notes/blob/main/Data_Science_week2_confirm.ipynb\" target=\"_parent\"><img src=\"https://colab.research.google.com/assets/colab-badge.svg\" alt=\"Open In Colab\"/></a>"
      ]
    },
    {
      "cell_type": "markdown",
      "source": [
        "**week 2**\n",
        "#Python Data Structures & Key Functions\n",
        "\n",
        "**Data Structures** (List, Arrays, Set, Dictionary, Tuple)\n",
        "\n",
        "**Map**\n",
        "\n",
        "**Apply**\n",
        "\n",
        "**Filter**\n",
        "\n",
        "**Regex & Recursion**\n",
        "\n",
        "**Parallel Lists**\n",
        "\n",
        "**Exception Handling**\n",
        "\n",
        "**List Comprehension**\n",
        "\n",
        "**List Slicing + Assignment Discussion.**"
      ],
      "metadata": {
        "id": "1FQK-QmSU2e2"
      }
    },
    {
      "cell_type": "markdown",
      "source": [
        "#Data structure\n",
        "**data structure**:\n",
        "The effective organization and storage of data using a data structure makes actions like insertion, retrieval, modification, and deletion easier.\n"
      ],
      "metadata": {
        "id": "SH1zGVuHlwRI"
      }
    },
    {
      "cell_type": "code",
      "source": [],
      "metadata": {
        "id": "VhDsonp4lwJo"
      },
      "execution_count": null,
      "outputs": []
    },
    {
      "cell_type": "markdown",
      "source": [
        "#List\n",
        "A list is an ordered group of elements, which may or may not be of the same data type. Because lists are changeable, you may change, add, or delete elements after the list has been created.A list is an ordered group of elements, which may or may not be of the same data type. Because lists are changeable, you may change, add, or delete elements after the list has been created."
      ],
      "metadata": {
        "id": "fHLN5ONKm087"
      }
    },
    {
      "cell_type": "code",
      "source": [
        "\n",
        "# Creating a list of integers\n",
        "my_list = [1, 2, 3, 4, 5]\n",
        "\n",
        "# Accessing elements in the list\n",
        "first_element = my_list[0]  # Access the first element (index 0)\n",
        "second_element = my_list[1]  # Access the second element (index 1)\n",
        "\n",
        "# Modifying elements in the list\n",
        "my_list[2] = 10  # Change the third element (index 2) to 10\n",
        "\n",
        "# Adding elements to the list\n",
        "my_list.append(6)  # Add 6 to the end of the list\n",
        "\n",
        "# Removing elements from the list\n",
        "my_list.remove(4)  # Remove the element with the value 4\n",
        "\n",
        "# Iterating through the list\n",
        "for number in my_list:\n",
        "    print(number,\"\\n\")\n",
        "\n",
        "\n",
        " # Creating a list of strings\n",
        "fruits = [\"apple\", \"banana\", \"cherry\", \"date\"]\n",
        "\n",
        "# Accessing elements in the list\n",
        "first_fruit = fruits[0]  # Access the first element (index 0)\n",
        "second_fruit = fruits[1]  # Access the second element (index 1)\n",
        "\n",
        "# Modifying elements in the list\n",
        "fruits[2] = \"grape\"  # Change the third element (index 2) to \"grape\"\n",
        "\n",
        "# Adding elements to the list\n",
        "fruits.append(\"fig\")  # Add \"fig\" to the end of the list\n",
        "\n",
        "# Removing elements from the list\n",
        "fruits.remove(\"banana\")  # Remove the element \"banana\"\n",
        "\n",
        "# Iterating through the list\n",
        "for fruit in fruits:\n",
        "    print(fruit)\n"
      ],
      "metadata": {
        "id": "qbRzSvPvnm7h",
        "colab": {
          "base_uri": "https://localhost:8080/"
        },
        "outputId": "6df6bfbe-e8a8-4b91-ab4d-3d1dff87a969"
      },
      "execution_count": null,
      "outputs": [
        {
          "output_type": "stream",
          "name": "stdout",
          "text": [
            "1 \n",
            "\n",
            "2 \n",
            "\n",
            "10 \n",
            "\n",
            "5 \n",
            "\n",
            "6 \n",
            "\n",
            "apple\n",
            "grape\n",
            "date\n",
            "fig\n"
          ]
        }
      ]
    },
    {
      "cell_type": "markdown",
      "source": [
        "#Array\n",
        "\n",
        "In Python, a \"array\" is commonly known as a \"list.\" A list is a built-in data structure in Python that may be used to hold an ordered collection of objects of mixed data types. Lists are dynamic, which means you may add, delete, and alter elements without having to provide a set size. Lists are a prominent data structure in Python for working with data collections."
      ],
      "metadata": {
        "id": "AxjBdCK6jDhS"
      }
    },
    {
      "cell_type": "code",
      "source": [
        "# Creating an array-like list of integers\n",
        "my_array = [1, 2, 3, 4, 5]\n",
        "\n",
        "# Accessing elements by index\n",
        "first_element = my_array[0]  # Access the first element\n",
        "second_element = my_array[1]  # Access the second element\n",
        "\n",
        "# Modifying an element\n",
        "my_array[2] = 10  # Change the third element to 10\n",
        "\n",
        "# Adding elements to the end of the list (array)\n",
        "my_array.append(6)  # Add 6 to the end of the list\n",
        "\n",
        "# Removing an element from the list (array)\n",
        "my_array.remove(4)  # Remove the element with the value 4\n",
        "\n",
        "# Iterating through the list (array)\n",
        "for element in my_array:\n",
        "    print(element)"
      ],
      "metadata": {
        "colab": {
          "base_uri": "https://localhost:8080/"
        },
        "id": "Y0DEfrqnjn7b",
        "outputId": "ab3a1f30-7361-44bd-bf45-39da2a9c0a91"
      },
      "execution_count": null,
      "outputs": [
        {
          "output_type": "stream",
          "name": "stdout",
          "text": [
            "1\n",
            "2\n",
            "10\n",
            "5\n",
            "6\n"
          ]
        }
      ]
    },
    {
      "cell_type": "markdown",
      "source": [
        "#Set\n",
        "In computer programming, a \"set\" is a fundamental data structure that represents an unordered collection of unique items. Each element in a set is distinct, and duplicate values are not permitted. Sets are frequently used to store and manage data collections when element uniqueness is critical."
      ],
      "metadata": {
        "id": "wvXUE6z51pUB"
      }
    },
    {
      "cell_type": "code",
      "source": [
        "# Creating a set in Python\n",
        "my_set = {1, 2, 3}\n",
        "\n",
        "# Adding elements to the set\n",
        "my_set.add(4)\n",
        "\n",
        "# Removing an element from the set\n",
        "my_set.remove(2)\n",
        "\n",
        "# Checking membership\n",
        "if 3 in my_set:\n",
        "    print(\"3 is in the set\")"
      ],
      "metadata": {
        "colab": {
          "base_uri": "https://localhost:8080/"
        },
        "id": "FDLkWP6pjn-b",
        "outputId": "24940768-8948-4161-f764-58ad3b0d8045"
      },
      "execution_count": null,
      "outputs": [
        {
          "output_type": "stream",
          "name": "stdout",
          "text": [
            "3 is in the set\n"
          ]
        }
      ]
    },
    {
      "cell_type": "markdown",
      "source": [
        "#Dictionary\n",
        "A \"dictionary\" is a data structure integrated into Python that represents an unordered collection of key-value pairs. Dictionaries, often known as \"dicts,\" are used to store data in such a way that values may be efficiently retrieved based on their related keys. Each key in a dictionary is unique, and it is used to get the value that corresponds to it."
      ],
      "metadata": {
        "id": "XFOil-bT3Fkq"
      }
    },
    {
      "cell_type": "code",
      "source": [
        "# Creating a dictionary\n",
        "student = {\n",
        "    \"name\": \"Alice\",\n",
        "    \"age\": 20,\n",
        "    \"major\": \"Computer Science\",\n",
        "    \"student_id\": \"12345\"\n",
        "}\n",
        "\n",
        "# Accessing values by key\n",
        "student_name = student[\"name\"]\n",
        "student_age = student[\"age\"]\n",
        "\n",
        "# Modifying values\n",
        "student[\"age\"] = 21\n",
        "\n",
        "# Adding a new key-value pair\n",
        "student[\"city\"] = \"New York\"\n",
        "\n",
        "# Removing a key-value pair\n",
        "del student[\"student_id\"]\n",
        "\n",
        "# Iterating through keys and values\n",
        "for key, value in student.items():\n",
        "    print(f\"{key}: {value}\")"
      ],
      "metadata": {
        "colab": {
          "base_uri": "https://localhost:8080/"
        },
        "id": "kIu7RQz4joBT",
        "outputId": "c4225374-f298-4777-ab7c-2dcc40be0d99"
      },
      "execution_count": null,
      "outputs": [
        {
          "output_type": "stream",
          "name": "stdout",
          "text": [
            "name: Alice\n",
            "age: 21\n",
            "major: Computer Science\n",
            "city: New York\n"
          ]
        }
      ]
    },
    {
      "cell_type": "markdown",
      "source": [
        "#Tuple\n",
        "A \"tuple\" is a data structure built into Python that represents an ordered, immutable collection of items. Tuples, like lists, may store many values, but unlike lists, tuples cannot be updated after they are generated. The order of the items in a tuple is retained, thus tuples are frequently used to group together relevant bits of data."
      ],
      "metadata": {
        "id": "46hYozlW36hr"
      }
    },
    {
      "cell_type": "code",
      "source": [
        "# Creating a tuple\n",
        "my_tuple = (1, \"apple\", 3.14, True)\n",
        "\n",
        "# Accessing elements by index\n",
        "first_element = my_tuple[0]  # Access the first element\n",
        "second_element = my_tuple[1]  # Access the second element\n",
        "\n",
        "# Iterating through the tuple\n",
        "for element in my_tuple:\n",
        "    print(element)\n",
        "\n",
        "\n",
        "#example 2\n",
        "states_in_order_of_founding = (\"Delaware\",\n",
        "\"Pennsylvania\", \"New Jersey\", \"Georgia\")\n",
        "second_state_founded = states_in_order_of_founding[1]\n",
        "print(\"The second state founded was \" + second_state_founded)"
      ],
      "metadata": {
        "colab": {
          "base_uri": "https://localhost:8080/"
        },
        "id": "sAXgpjbcjoEL",
        "outputId": "12818600-a92b-4937-df39-04976ae513eb"
      },
      "execution_count": null,
      "outputs": [
        {
          "output_type": "stream",
          "name": "stdout",
          "text": [
            "1\n",
            "apple\n",
            "3.14\n",
            "True\n",
            "The second state founded was Pennsylvania\n"
          ]
        }
      ]
    },
    {
      "cell_type": "markdown",
      "source": [
        "#Map\n",
        "**Built-in map() Function**:Map() is a built-in function in Python that applies a provided function to all elements in an iterable (such as a list, tuple, or string) and produces a new iterable (typically a map object) with the results. The map() method accepts two arguments: the function to be applied and the iterable to which it will be applied.\n",
        "\n",
        "**Dictionary Mapping**: In Python, a \"map\" can also refer to a dictionary (or dict) data structure. A dictionary is a collection of key-value pairs where each key maps to a specific value. Dictionaries are often used for mapping keys to associated data.\n",
        "\n",
        "**Mapping Functionality in General**: In a broader sense, \"mapping\" in Python can refer to the process of associating or transforming one set of values into another set of values based on some rule or function. This concept is not specific to the map() function but encompasses any operation that establishes a relationship between elements.\n",
        "\n",
        "For example, you can \"map\" a list of names to their corresponding lengths using a list"
      ],
      "metadata": {
        "id": "U7FkIDWx4gFp"
      }
    },
    {
      "cell_type": "markdown",
      "source": [
        "***Built in map() Function***"
      ],
      "metadata": {
        "id": "fv_ncfgW9iYx"
      }
    },
    {
      "cell_type": "code",
      "source": [
        "#Built in map()\n",
        "\n",
        "\n",
        "numbers = [1, 2, 3, 4, 5]\n",
        "\n",
        "def square(x):\n",
        "    return x * x\n",
        "\n",
        "squared_numbers = map(square, numbers)\n",
        "squared_numbers_list = list(squared_numbers)  # Convert the map object to a list\n",
        "# len represent the length or the size\n",
        "print(squared_numbers_list)  # Output: [1, 4, 9, 16, 25]"
      ],
      "metadata": {
        "colab": {
          "base_uri": "https://localhost:8080/"
        },
        "id": "akFPraGJjoHj",
        "outputId": "a27b3dba-c70a-4678-df5c-8cc6d4b069f6"
      },
      "execution_count": null,
      "outputs": [
        {
          "output_type": "stream",
          "name": "stdout",
          "text": [
            "[1, 4, 9, 16, 25]\n"
          ]
        }
      ]
    },
    {
      "cell_type": "markdown",
      "source": [
        "**Dictionary**\n",
        "\n",
        "{} this key represent dictionary"
      ],
      "metadata": {
        "id": "hxt-XfIU8qMB"
      }
    },
    {
      "cell_type": "code",
      "source": [
        "student_scores = {\n",
        "    \"Alice\": 90,\n",
        "    \"Bob\": 85,\n",
        "    \"Charlie\": 92\n",
        "}\n",
        "\n",
        "alice_score = student_scores[\"Alice\"]  # Access the value mapped to the key \"Alice\"\n",
        "print(alice_score)"
      ],
      "metadata": {
        "colab": {
          "base_uri": "https://localhost:8080/"
        },
        "id": "Cn9kI7E-79oj",
        "outputId": "6f72bb2a-3793-4926-f016-e7eb5ade9ad0"
      },
      "execution_count": null,
      "outputs": [
        {
          "output_type": "stream",
          "name": "stdout",
          "text": [
            "90\n"
          ]
        }
      ]
    },
    {
      "cell_type": "markdown",
      "source": [
        "**Mapping fuctionality in general**\n"
      ],
      "metadata": {
        "id": "B8ktRfp08q-R"
      }
    },
    {
      "cell_type": "code",
      "source": [
        "names = [\"Alice\", \"Bob\", \"Charlie\"]\n",
        "name_lengths = [len(name) for name in names]  # Mapping names to their lengths\n",
        "print(name_lengths)"
      ],
      "metadata": {
        "colab": {
          "base_uri": "https://localhost:8080/"
        },
        "id": "gel-kc1h79rB",
        "outputId": "cf34000a-3553-4190-cdad-112ab15a47f3"
      },
      "execution_count": null,
      "outputs": [
        {
          "output_type": "stream",
          "name": "stdout",
          "text": [
            "[5, 3, 7]\n"
          ]
        }
      ]
    },
    {
      "cell_type": "code",
      "source": [
        "my_range = range(1, 6)\n",
        "range_length = len(my_range)\n",
        "print(range_length)"
      ],
      "metadata": {
        "colab": {
          "base_uri": "https://localhost:8080/"
        },
        "id": "AnLGpOjn8mu4",
        "outputId": "8356fe73-b25f-4842-ee0f-af3b885a221c"
      },
      "execution_count": null,
      "outputs": [
        {
          "output_type": "stream",
          "name": "stdout",
          "text": [
            "5\n"
          ]
        }
      ]
    },
    {
      "cell_type": "markdown",
      "source": [
        "#Filter\n",
        "The term \"filter\" in Python generally refers to the filter() function, which is a built-in function used to filter elements from an iterable (e.g., a list, tuple, or string) depending on a stated criteria. The filter() method returns a new iterable (usually a filter object in Python 3) that contains only the items of the original iterable that fulfill the specified criterion.\n",
        "\n"
      ],
      "metadata": {
        "id": "NrIoySPsHTrB"
      }
    },
    {
      "cell_type": "code",
      "source": [],
      "metadata": {
        "id": "y-5Q5M0OVgmS"
      },
      "execution_count": null,
      "outputs": []
    },
    {
      "cell_type": "code",
      "source": [
        "# filter(function, iterable) --------->general syntax of filter\n",
        "\n",
        "numbers = [1, 2, 3, 4, 5, 6]\n",
        "\n",
        "# Define a function to check if a number is even\n",
        "def is_even(num):\n",
        "    return num % 2 == 0\n",
        "\n",
        "# Use filter to get even numbers from the list\n",
        "even_numbers = filter(is_even, numbers)\n",
        "\n",
        "# Convert the filter object to a list\n",
        "even_numbers_list = list(even_numbers)\n",
        "\n",
        "print(even_numbers_list)  # Output: [2, 4, 6]\n",
        "\n",
        "\n",
        "#We define a function is_even that checks whether a number is even.(def is used to define a function)\n",
        "#We use the filter() function to filter even numbers from the numbers list by applying the is_even function as the filter condition.\n",
        "#We convert the filter object to a list to obtain the filtered result, which contains only the even numbers.\n",
        "#The filter() function is a useful tool for selectively extracting elements from an iterable based on a specified criterion or condition.\n"
      ],
      "metadata": {
        "colab": {
          "base_uri": "https://localhost:8080/"
        },
        "id": "5FlvD5zXHTNp",
        "outputId": "a1a5993d-b8dd-4576-b681-d8fe43f20554"
      },
      "execution_count": null,
      "outputs": [
        {
          "output_type": "stream",
          "name": "stdout",
          "text": [
            "[2, 4, 6]\n"
          ]
        }
      ]
    },
    {
      "cell_type": "markdown",
      "source": [
        "#Regix and recursion\n",
        "**Regex (Regular Expressions) and recursion are two separate concepts in programming, but they can be used together in some scenarios when dealing with complex text-processing tasks. **\n",
        "\n",
        "**Regix**\n",
        "Regex is a powerful tool for pattern matching and text manipulation.\n",
        "It allows you to define patterns using a special syntax to search for, match, and extract specific parts of text.\n",
        "Regex is commonly used for tasks like data validation, searching and extracting information from text, and text replacement.\n",
        "\n",
        "**Recurrion**\n",
        "Recursion is a programming technique where a function calls itself to solve a problem that can be broken down into smaller, similar subproblems.\n",
        "It is commonly used for tasks where a problem can be divided into smaller, identical or similar subproblems, such as tree traversal, factorial calculations, and solving problems in a recursive manner."
      ],
      "metadata": {
        "id": "bmfmwW38MVS4"
      }
    },
    {
      "cell_type": "code",
      "source": [
        "import re\n",
        "\n",
        "text = \"Please contact support@example.com for assistance.\"\n",
        "pattern = r'\\b[A-Za-z0-9._%+-]+@[A-Za-z0-9.-]+\\.[A-Z|a-z]{2,7}\\b'\n",
        "\n",
        "email_matches = re.findall(pattern, text)\n",
        "print(email_matches)  # Output: ['support@example.com']"
      ],
      "metadata": {
        "colab": {
          "base_uri": "https://localhost:8080/"
        },
        "id": "ubQnKZ0hABJg",
        "outputId": "6d0df88c-62df-4896-ef4e-fa48facecfb2"
      },
      "execution_count": null,
      "outputs": [
        {
          "output_type": "stream",
          "name": "stdout",
          "text": [
            "['support@example.com']\n"
          ]
        }
      ]
    },
    {
      "cell_type": "code",
      "source": [
        "#Recurrion\n",
        "def factorial(n):\n",
        "    if n == 0:\n",
        "        return 1\n",
        "    else:\n",
        "        return n * factorial(n - 1)\n",
        "\n",
        "print(factorial)"
      ],
      "metadata": {
        "colab": {
          "base_uri": "https://localhost:8080/"
        },
        "id": "dXiMQqWLPkl1",
        "outputId": "db57413c-d513-4597-f582-55a68da6355e"
      },
      "execution_count": null,
      "outputs": [
        {
          "output_type": "stream",
          "name": "stdout",
          "text": [
            "<function factorial at 0x7e0600996f80>\n"
          ]
        }
      ]
    },
    {
      "cell_type": "markdown",
      "source": [
        "***exceptional case***\n",
        "\n",
        "to use both recurrion and re"
      ],
      "metadata": {
        "id": "auvpgo7KRQi2"
      }
    },
    {
      "cell_type": "code",
      "source": [
        "import re\n"
      ],
      "metadata": {
        "id": "DXKcl_73QTeF"
      },
      "execution_count": null,
      "outputs": []
    },
    {
      "cell_type": "code",
      "source": [
        "def parse_nested(text):\n",
        "    # Define a regex pattern to match innermost parentheses\n",
        "    inner_pattern = r'\\([^()]*\\)'\n",
        "\n",
        "    # Find all innermost parentheses using regex\n",
        "    inner_matches = re.findall(inner_pattern, text)\n",
        "\n",
        "    # Base case: no inner parentheses found\n",
        "    if not inner_matches:\n",
        "        return text\n",
        "\n",
        "    # Recursively process text within parentheses\n",
        "    for match in inner_matches:\n",
        "        text = text.replace(match, parse_nested(match[1:-1]))\n",
        "\n",
        "    # Continue processing the remaining text\n",
        "    return parse_nested(text)\n",
        "\n",
        "text = \"This is (a (nested) example).\"\n",
        "result = parse_nested(text)\n",
        "print(result)\n",
        "  # Output: \"This is a nested example.\"\n",
        " #The parse_nested function in this example use recursion to locate and analyze nested parenthesis using a regex pattern. It applies regex on the innermost parentheses repeatedly until no nested parentheses are found.\n",
        " #This is just one example of how regex and recursion can be combined for more complex text-processing tasks. Depending on your specific requirements, you may need to adapt and extend these techniques to suit your needs.\n",
        "\n",
        "\n",
        "\n",
        "\n",
        "\n"
      ],
      "metadata": {
        "colab": {
          "base_uri": "https://localhost:8080/"
        },
        "id": "SWfMP32xRu_e",
        "outputId": "6e81c1f0-c053-4665-b987-e5e27dbb4e4c"
      },
      "execution_count": null,
      "outputs": [
        {
          "output_type": "stream",
          "name": "stdout",
          "text": [
            "This is a nested example.\n"
          ]
        }
      ]
    },
    {
      "cell_type": "markdown",
      "source": [
        "**Parallel list**\n",
        "\n",
        "\"Parallel lists\" in Python often refer to several lists that hold connected data, with entries at appropriate indices in each list correlated with each other. Each list represents a distinct facet or characteristic of the data, and each list's items relate to the same item or object.\n",
        "(two different data store in 2 different list is basically parallel list)"
      ],
      "metadata": {
        "id": "3x4WrdF3Si2X"
      }
    },
    {
      "cell_type": "markdown",
      "source": [
        "**Exceptional Case**\n",
        "\n",
        "exception handling is implemented using the try, except, else, and finally"
      ],
      "metadata": {
        "id": "13KoDICadL0O"
      }
    },
    {
      "cell_type": "code",
      "source": [
        "try:\n",
        "    result = 10 / 2  # No exception is raised\n",
        "except ZeroDivisionError:\n",
        "    print(\"Division by zero error occurred!\")\n",
        "else:\n",
        "    print(\"No exceptions were raised. Result:\", result)"
      ],
      "metadata": {
        "id": "Z-aI-QZtSimX"
      },
      "execution_count": null,
      "outputs": []
    },
    {
      "cell_type": "code",
      "source": [
        "try:\n",
        "    result = 10 / 0\n",
        "except ZeroDivisionError:\n",
        "    print(\"Division by zero error occurred!\")\n",
        "finally:\n",
        "    print(\"This code always runs, even if an exception was raised.\")"
      ],
      "metadata": {
        "id": "mMAECZQfSAZK"
      },
      "execution_count": null,
      "outputs": []
    },
    {
      "cell_type": "markdown",
      "source": [
        "**List comprehension**\n",
        "\n",
        "List comprehension is a concise and Pythonic way to create lists. It allows you to create a new list by applying an expression to each item in an existing iterable (such as a list, tuple, or range) and optionally applying a condition to filter items.\n",
        "\n",
        "new_list = [expression **for** item **in** iterable if condition]----------> basic syntax structure\n"
      ],
      "metadata": {
        "id": "4cn-bT2_hAg9"
      }
    },
    {
      "cell_type": "code",
      "source": [
        "numbers = [1, 2, 3, 4, 5]\n",
        "squares = [x**2 for x in numbers]\n",
        "print(squares)\n"
      ],
      "metadata": {
        "colab": {
          "base_uri": "https://localhost:8080/"
        },
        "id": "J8JmBv9Diju7",
        "outputId": "f662127e-5c8a-4395-c62c-efb1560fc3b0"
      },
      "execution_count": null,
      "outputs": [
        {
          "output_type": "stream",
          "name": "stdout",
          "text": [
            "[1, 4, 9, 16, 25]\n"
          ]
        }
      ]
    },
    {
      "cell_type": "markdown",
      "source": [
        "**List slicing**\n",
        "\n",
        "List slicing is a Python technique for extracting a piece or subset of elements from a list. It allows you to generate a new list that has only the components from the original list that you require while leaving the old list intact. List slicing is done with a colon (:) within square brackets."
      ],
      "metadata": {
        "id": "Qgxg0W_PkL_U"
      }
    },
    {
      "cell_type": "code",
      "source": [
        "cities = [\"Atlanta\", \"Baltimore\", \"Chicago\",\n",
        "\"Denver\", \"Los Angeles\", \"Seattle\"]\n",
        "smaller_list_of_cities = cities[2:5]\n",
        "print(smaller_list_of_cities)"
      ],
      "metadata": {
        "id": "GSibtpvcjDCM",
        "colab": {
          "base_uri": "https://localhost:8080/"
        },
        "outputId": "77b30fbe-b0d9-45cc-f4f2-eeeffc45689c"
      },
      "execution_count": null,
      "outputs": [
        {
          "output_type": "stream",
          "name": "stdout",
          "text": [
            "['Chicago', 'Denver', 'Los Angeles']\n"
          ]
        }
      ]
    },
    {
      "cell_type": "code",
      "source": [],
      "metadata": {
        "id": "-0WQU9iPkxje"
      },
      "execution_count": null,
      "outputs": []
    }
  ]
}