{
  "nbformat": 4,
  "nbformat_minor": 0,
  "metadata": {
    "colab": {
      "provenance": [],
      "authorship_tag": "ABX9TyPNj8f/RYl6olfzCxMBdVkw",
      "include_colab_link": true
    },
    "kernelspec": {
      "name": "python3",
      "display_name": "Python 3"
    },
    "language_info": {
      "name": "python"
    }
  },
  "cells": [
    {
      "cell_type": "markdown",
      "metadata": {
        "id": "view-in-github",
        "colab_type": "text"
      },
      "source": [
        "<a href=\"https://colab.research.google.com/github/SyedDanishKhurram/Data-science-Artificial-Intelligence-notes/blob/main/AI_week_8.ipynb\" target=\"_parent\"><img src=\"https://colab.research.google.com/assets/colab-badge.svg\" alt=\"Open In Colab\"/></a>"
      ]
    },
    {
      "cell_type": "markdown",
      "source": [
        "**Week-8**\n",
        "# Class 15-16: Introduction to Statistics\n",
        "# Statistics ++\n",
        "**Details:**\n",
        "* Basic Statistics - Plan to have a session by an external resource\n",
        "* ANOVA Test\n",
        "* Chi-Square - Plan to have a session by an external resource"
      ],
      "metadata": {
        "id": "ss1pzIdsPCKT"
      }
    },
    {
      "cell_type": "code",
      "source": [],
      "metadata": {
        "id": "ExiFTeFNTLdX"
      },
      "execution_count": null,
      "outputs": []
    },
    {
      "cell_type": "markdown",
      "source": [
        "# Introduction to statistics in python"
      ],
      "metadata": {
        "id": "decG1hWjVS-_"
      }
    },
    {
      "cell_type": "markdown",
      "source": [
        "**Statistics in Python** involves the use of Python programming language along with its various libraries and packages to perform data analysis, statistical calculations, hypothesis testing, and data visualization. Python's extensive ecosystem of libraries makes it a popular choice for data scientists and analysts to work with statistical concepts and conduct statistical analyses effectively. Here's how Python and its libraries come together for statistics:\n",
        "\n",
        "**Python Language:** Python provides a versatile and easy-to-learn programming language that serves as the foundation for conducting statistical operations and data manipulation.\n",
        "\n",
        "**Libraries and Packages:** Python's strength in statistics lies in its rich collection of libraries and packages, including but not limited to:\n",
        "\n",
        "**NumPy:** For numerical operations and working with arrays and matrices.\n",
        "\n",
        "**pandas:** For data manipulation and analysis using DataFrame and Series structures.\n",
        "\n",
        "**SciPy:** For advanced scientific and statistical computations.\n",
        "\n",
        "**statsmodels:** For statistical modeling and hypothesis testing.\n",
        "\n",
        "**matplotlib and Seaborn:** For data visualization and plotting.\n",
        "\n",
        "**scikit-learn:** For machine learning and predictive modeling, which often involves statistical concepts.\n",
        "Community and Resources: Python's large and active community provides extensive documentation, tutorials, and resources related to statistics. This makes it accessible for both beginners and experienced data analysts.\n",
        "\n",
        "Flexibility: Python allows you to integrate statistical analysis seamlessly with other data science tasks, such as data preprocessing, machine learning, and model deployment.\n",
        "\n",
        "By leveraging Python and its libraries, data professionals can conduct a wide range of statistical tasks, from basic descriptive statistics to advanced hypothesis testing, regression analysis, and more. Python's versatility and the availability of libraries make it a valuable tool for those working with data and statistics in various domains, including research, business, healthcare, and social sciences.\n",
        "\n",
        "\n",
        "\n",
        "\n"
      ],
      "metadata": {
        "id": "hZZEEwYiVbpP"
      }
    },
    {
      "cell_type": "markdown",
      "source": [
        "# ANOVA"
      ],
      "metadata": {
        "id": "ZJ7867sFTOh_"
      }
    },
    {
      "cell_type": "markdown",
      "source": [
        "**Groups:** ANOVA compares the means of multiple groups. These groups are often referred to as \"treatments\" or \"factors.\" For example, you might compare the performance of three different teaching methods on student test scores, where each teaching method represents a group.\n",
        "\n",
        "**Null Hypothesis (H0):** The null hypothesis in ANOVA states that there are no significant differences among the group means. In other words, all group means are equal.\n",
        "\n",
        "**Alternative Hypothesis (Ha):** The alternative hypothesis contradicts the null hypothesis and suggests that there are significant differences among at least one pair of group means.\n",
        "\n",
        "**Variation:** ANOVA decomposes the total variation in the data into two components: variation between groups (explained variation) and variation within groups (unexplained or residual variation).\n",
        "\n",
        "T**ypes of ANOVA:**\n",
        "\n",
        "There are different types of ANOVA, including:\n",
        "\n",
        "**One-Way ANOVA**: Used when you have one independent variable with more than two groups. It assesses whether there are any statistically significant differences among the group means.\n",
        "\n",
        "**Two-Way ANOVA:** Used when you have two independent variables and want to determine how they interact and affect the dependent variable. It assesses main effects and interaction effects.\n",
        "\n",
        "**Repeated Measures ANOVA**: Used when you have repeated measurements on the same subjects or entities (e.g., longitudinal data) and want to assess changes over time or under different conditions.\n",
        "\n",
        "Steps for Performing ANOVA:\n",
        "\n",
        "**Formulate Hypotheses**: Define your null and alternative hypotheses based on your research question.\n",
        "\n",
        "**Collect Data:** Gather data from your groups or treatments.\n",
        "\n",
        "**Data Preparation:** Ensure your data meet the assumptions of ANOVA, such as normality and homogeneity of variances. Transformations may be needed.\n",
        "\n",
        "**Perform ANOVA:** Use statistical software (e.g., Python with libraries like SciPy or R) to perform the ANOVA test. The software will calculate the F-statistic and p-value.\n",
        "\n",
        "**Interpret Results:** Evaluate the p-value. If p < alpha (usually 0.05), you reject the null hypothesis, indicating that there are significant differences among the groups. If p ≥ alpha, you fail to reject the null hypothesis.\n",
        "\n",
        "Post-Hoc Tests: If ANOVA indicates significant differences, post-hoc tests (e.g., Tukey's HSD, Bonferroni) can be conducted to identify which specific group pairs differ significantly."
      ],
      "metadata": {
        "id": "EdlZXZgATL4e"
      }
    },
    {
      "cell_type": "markdown",
      "source": [
        "This code is for one way\n"
      ],
      "metadata": {
        "id": "oyE1UtSrwX3m"
      }
    },
    {
      "cell_type": "code",
      "source": [
        "import scipy.stats as stats\n",
        "\n",
        "# Sample data for three groups (replace this with your own data)\n",
        "group1 = [22, 24, 28, 30, 32]\n",
        "group2 = [18, 20, 24, 26, 28]\n",
        "group3 = [15, 16, 18, 20, 22]\n",
        "\n",
        "# Perform one-way ANOVA\n",
        "statistic, p_value = stats.f_oneway(group1, group2, group3)\n",
        "\n",
        "# Display the results\n",
        "print(\"ANOVA F-statistic:\", statistic)\n",
        "print(\"p-value:\", p_value)\n",
        "\n",
        "# Determine if the p-value is statistically significant (common significance level is 0.05)\n",
        "alpha = 0.05\n",
        "if p_value < alpha:\n",
        "    print(\"Reject the null hypothesis; there are significant differences among group means.\")\n",
        "else:\n",
        "    print(\"Fail to reject the null hypothesis; there are no significant differences among group means.\")\n"
      ],
      "metadata": {
        "id": "idzHHksFTNmB",
        "colab": {
          "base_uri": "https://localhost:8080/"
        },
        "outputId": "2fafb6f1-3d7a-40f4-8121-ef62b8663bd4"
      },
      "execution_count": null,
      "outputs": [
        {
          "output_type": "stream",
          "name": "stdout",
          "text": [
            "ANOVA F-statistic: 7.15962441314554\n",
            "p-value: 0.00898351994543857\n",
            "Reject the null hypothesis; there are significant differences among group means.\n"
          ]
        }
      ]
    },
    {
      "cell_type": "markdown",
      "source": [
        "this code is for two ways\n"
      ],
      "metadata": {
        "id": "PsWlq-BVwayW"
      }
    },
    {
      "cell_type": "code",
      "source": [
        "import statsmodels.api as sm\n",
        "from statsmodels.formula.api import ols\n",
        "\n",
        "# Sample data (replace with your own data)\n",
        "data = {\n",
        "    'A': ['A1', 'A2', 'A1', 'A2', 'A1', 'A2'],\n",
        "    'B': ['B1', 'B1', 'B2', 'B2', 'B1', 'B1'],\n",
        "    'Value': [23, 30, 32, 27, 18, 25],\n",
        "}\n",
        "\n",
        "# Create a DataFrame\n",
        "import pandas as pd\n",
        "df = pd.DataFrame(data)\n",
        "\n",
        "# Fit a two-way ANOVA model\n",
        "formula = 'Value ~ C(A) + C(B) + C(A):C(B)'\n",
        "model = ols(formula, data=df).fit()\n",
        "anova_table = sm.stats.anova_lm(model, typ=2)\n",
        "\n",
        "# Display the ANOVA results\n",
        "print(anova_table)\n"
      ],
      "metadata": {
        "colab": {
          "base_uri": "https://localhost:8080/"
        },
        "id": "2YmPbT_fwdvL",
        "outputId": "33db621c-f8b6-471b-f9f6-80f43b043e3f"
      },
      "execution_count": null,
      "outputs": [
        {
          "output_type": "stream",
          "name": "stdout",
          "text": [
            "              sum_sq   df         F    PR(>F)\n",
            "C(A)       13.500000  1.0  1.080000  0.407843\n",
            "C(B)       40.333333  1.0  3.226667  0.214286\n",
            "C(A):C(B)  48.000000  1.0  3.840000  0.189115\n",
            "Residual   25.000000  2.0       NaN       NaN\n"
          ]
        }
      ]
    },
    {
      "cell_type": "markdown",
      "source": [
        "# Chi-Square"
      ],
      "metadata": {
        "id": "nSyVdy7xWlOQ"
      }
    },
    {
      "cell_type": "markdown",
      "source": [
        "Chi-Square (2) analysis is a statistical technique for determining whether two categorical variables in a contingency table are related or independent. It is frequently used to establish whether there is a meaningful connection between the two variables. Using tools like scipy.stats and pandas, you can do Chi-Square analysis in Python. A step-by-step tutorial for performing Chi-Square analysis in Python can be found here:\n"
      ],
      "metadata": {
        "id": "w_ZcLLP2WljP"
      }
    },
    {
      "cell_type": "code",
      "source": [
        "import pandas as pd\n",
        "import numpy as np\n",
        "from scipy.stats import chi2_contingency\n"
      ],
      "metadata": {
        "id": "akJmPtu2WuTs"
      },
      "execution_count": null,
      "outputs": []
    },
    {
      "cell_type": "markdown",
      "source": [
        "A contingency table, commonly referred to as a cross-tabulation or crosstab, must be made in order to summarize the relationship between the two categorical variables you wish to study. Assuming you have information from a poll asking participants about their favorite color and beverage,"
      ],
      "metadata": {
        "id": "SZZJkMRKW7FI"
      }
    },
    {
      "cell_type": "code",
      "source": [
        "data = {\n",
        "    'Color': ['Red', 'Blue', 'Green', 'Red', 'Blue', 'Green'],\n",
        "    'Beverage': ['Tea', 'Coffee', 'Tea', 'Coffee', 'Tea', 'Coffee']\n",
        "}\n",
        "\n",
        "df = pd.DataFrame(data)\n",
        "contingency_table = pd.crosstab(df['Color'], df['Beverage'])\n",
        "print(contingency_table)\n"
      ],
      "metadata": {
        "colab": {
          "base_uri": "https://localhost:8080/"
        },
        "id": "s_Rx_nHVWvBJ",
        "outputId": "91ca9567-4bb0-4b75-f37b-088680502db5"
      },
      "execution_count": null,
      "outputs": [
        {
          "output_type": "stream",
          "name": "stdout",
          "text": [
            "Beverage  Coffee  Tea\n",
            "Color                \n",
            "Blue           1    1\n",
            "Green          1    1\n",
            "Red            1    1\n"
          ]
        }
      ]
    },
    {
      "cell_type": "markdown",
      "source": [
        "Use the chi2_contingency function from scipy.stats to perform the Chi-Square test:"
      ],
      "metadata": {
        "id": "mP-YlMopW-SY"
      }
    },
    {
      "cell_type": "code",
      "source": [
        "chi2, p, _, _ = chi2_contingency(contingency_table)\n",
        "print(f\"Chi-Square Statistic: {chi2}\")\n",
        "print(f\"P-value: {p}\")\n"
      ],
      "metadata": {
        "colab": {
          "base_uri": "https://localhost:8080/"
        },
        "id": "IXJLCxSHW9Yd",
        "outputId": "c88a0f3a-05a3-4b13-e72a-ac794ee8aebf"
      },
      "execution_count": null,
      "outputs": [
        {
          "output_type": "stream",
          "name": "stdout",
          "text": [
            "Chi-Square Statistic: 0.0\n",
            "P-value: 1.0\n"
          ]
        }
      ]
    },
    {
      "cell_type": "code",
      "source": [],
      "metadata": {
        "id": "qAmIisTSXBfn"
      },
      "execution_count": null,
      "outputs": []
    },
    {
      "cell_type": "markdown",
      "source": [
        "If the p-value is less than a significance level (e.g., 0.05), you can reject the null hypothesis, indicating that there is a significant association between the two categorical variables.\n",
        "\n",
        "If the p-value is greater than the significance level, you fail to reject the null hypothesis, suggesting that there is no significant association between the variables.\n",
        "\n",
        "In the example above, if the p-value is less than 0.05, you would conclude that there is a significant relationship between color preference and beverage choice.\n",
        "\n",
        "Chi-Square analysis is useful for exploring relationships between categorical variables, such as gender and product preference, survey responses, and more. It helps you determine if there is a statistically significant association between these variables."
      ],
      "metadata": {
        "id": "uzY0F9RSXErH"
      }
    },
    {
      "cell_type": "code",
      "source": [],
      "metadata": {
        "id": "ntJimd_iXFPG"
      },
      "execution_count": null,
      "outputs": []
    }
  ]
}