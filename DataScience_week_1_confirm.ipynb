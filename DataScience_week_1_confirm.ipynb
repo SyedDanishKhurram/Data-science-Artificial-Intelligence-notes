{
  "nbformat": 4,
  "nbformat_minor": 0,
  "metadata": {
    "colab": {
      "provenance": []
    },
    "kernelspec": {
      "name": "python3",
      "display_name": "Python 3"
    },
    "language_info": {
      "name": "python"
    }
  },
  "cells": [
    {
      "cell_type": "markdown",
      "source": [
        "**# Week 1**\n",
        "# Introduction to the Course and Artificial Intelligence, Use cases of AI,Introduction to Python.\n",
        "syntax of python:\n",
        "\n",
        " **Variable**\n",
        "\n",
        " *inputs\n",
        "\n",
        " *Datatypes\n",
        "\n",
        " *if-elif-else\n",
        "\n",
        " *mathematical operations\n",
        "\n",
        "**loops**\n",
        "\n",
        "**functions**\n",
        "\n",
        "**Break**\n",
        "\n",
        "**continue**\n",
        "\n",
        "**pass Keyboard**"
      ],
      "metadata": {
        "id": "GD5MxTW0SL6m"
      }
    },
    {
      "cell_type": "code",
      "source": [],
      "metadata": {
        "id": "qAGG819kS69H"
      },
      "execution_count": null,
      "outputs": []
    },
    {
      "cell_type": "markdown",
      "source": [
        "#Variable\n",
        "variable = to store data in a variable\n",
        "\n",
        "example"
      ],
      "metadata": {
        "id": "XeyNGBUtS7Wd"
      }
    },
    {
      "cell_type": "code",
      "source": [
        "Name = \"danish\"\n",
        "Age = \"18\"\n",
        "\n",
        "#print statement = which is basically used to print the output\n",
        "print(\"Name\" +\":\"+ Name ,'\\n'\"Age\"+\":\" + Age)\n",
        "\n",
        "#input = we use input to get input from the console\n",
        "university = input(\"enter your university :\")"
      ],
      "metadata": {
        "colab": {
          "base_uri": "https://localhost:8080/"
        },
        "id": "dT7XsUwYmv78",
        "outputId": "5ed3e08b-6131-4674-f944-e3b98af7add7"
      },
      "execution_count": null,
      "outputs": [
        {
          "name": "stdout",
          "output_type": "stream",
          "text": [
            "Name:danish \n",
            "Age:18\n",
            "enter your university :IU\n"
          ]
        }
      ]
    },
    {
      "cell_type": "markdown",
      "source": [
        "print statement =which is basically used to print the output"
      ],
      "metadata": {
        "id": "kJy08hmwDB1u"
      }
    },
    {
      "cell_type": "markdown",
      "source": [
        "#Numeric Data\n",
        "Datatype = there are different type of datatype and we can make cunstomise it also and make our own custom data type\n",
        "\n",
        "**Numeric_data**\n",
        "\n",
        "**Int** : intergers are those number which does not include decimals or any alphabet (simple basic number)\n",
        "\n",
        "**Float** : float are those type of number which include decimal point with in\n",
        "\n",
        "**Complex** : complex are those type of data which include both decimal point and alhpabets\n",
        "\n"
      ],
      "metadata": {
        "id": "Ne4RMLgIaEM4"
      }
    },
    {
      "cell_type": "code",
      "source": [
        "Datatype  = \"Numeric type\",\"text type\",\"sequence type\",\"Mapping type\",\"Set type\",\"boolean type\",\"\"\n",
        "\n",
        "'Integers'\n",
        "My_phone_number = 331111222 #not a real phone number\n",
        "\n",
        "'FLoat'\n",
        "My_Total_marks = 89.9\n",
        "\n",
        "'complex'\n",
        "My_complexnumber = 22 + 2j\n",
        "\n",
        "#now we will all the numeric data\n",
        "print(\"int\" + ':' + str(My_phone_number)  )\n",
        "print(\"float\" + ':' +  str(My_Total_marks ))\n",
        "print(\"complex\" + ':' +  str(My_complexnumber) )\n",
        "#str() function is used to convert the integer, float, and complex number values to strings so that they can be concatenated with the data type labels in the print statements."
      ],
      "metadata": {
        "colab": {
          "base_uri": "https://localhost:8080/"
        },
        "id": "SXDsiZQrNnm7",
        "outputId": "c9c3badf-a317-45b2-85d9-893b00760a0e"
      },
      "execution_count": null,
      "outputs": [
        {
          "output_type": "stream",
          "name": "stdout",
          "text": [
            "int:331111222\n",
            "float:89.9\n",
            "complex:(22+2j)\n"
          ]
        }
      ]
    },
    {
      "cell_type": "markdown",
      "source": [
        "#If-elif-Else\n",
        "\n",
        "The \"if-elif-else\" statement is a control flow structure in many programming languages that allows you to make decisions in your code based on certain conditions.\n"
      ],
      "metadata": {
        "id": "ygrnDlkQaQZ7"
      }
    },
    {
      "cell_type": "code",
      "source": [
        "#if elif and else statements\n",
        "x = 5\n",
        "if x > 10:\n",
        "    print(\"x is greater than 10\")\n",
        "elif x < 10:\n",
        "    print(\"x is less than 10\")\n",
        "else:\n",
        "    print(\"x is equal to 10\")"
      ],
      "metadata": {
        "colab": {
          "base_uri": "https://localhost:8080/"
        },
        "id": "Togc5IlhR-6Z",
        "outputId": "e7e03495-f9cf-49e2-f6bb-6bdeb745d783"
      },
      "execution_count": null,
      "outputs": [
        {
          "output_type": "stream",
          "name": "stdout",
          "text": [
            "x is less than 10\n"
          ]
        }
      ]
    },
    {
      "cell_type": "markdown",
      "source": [
        "#Mathematic operation\n",
        "\n",
        "**Addition +:**Adds two or more numerical values together.\n",
        "\n",
        "**Subtraction -:** Subtracts one numerical value from another.\n",
        "\n",
        "**Multiplication *:**  Multiplies two or more numerical values together.\n",
        "\n",
        "**Division /:** Divides one numerical value by another. It typically returns a floating-point result.\n",
        "\n",
        "**Floor Division //:** Divides one numerical value by another and returns the integer part of the result, discarding the decimal part.\n",
        "\n",
        "**Modulus %:** Calculates the remainder when one numerical value is divided by another.\n",
        "\n",
        "**Exponentiation **:** Raises a numerical value to the power of another.\n"
      ],
      "metadata": {
        "id": "-9ql1Dn2abez"
      }
    },
    {
      "cell_type": "code",
      "source": [
        "#mathematical operation\n",
        "#Addition +:\n",
        "\n",
        "Addition_result = 5 + 3\n",
        "\n",
        "#Subtraction -: .\n",
        "Substraction_result = 10 - 4\n",
        "\n",
        "#Multiplication *:\n",
        "Multiplication_result = 6 * 7\n",
        "\n",
        "#Division /:\n",
        "Division_result = 15 / 3\n",
        "\n",
        "#Floor Division //:\n",
        "Floor_Division_result = 15 // 2\n",
        "\n",
        "#Modulus %:\n",
        "Modulus_result = 10 % 3\n",
        "\n",
        "#Exponentiation **:\n",
        "Exponentiation_result = 2 ** 3\n",
        "print(\"Addition_result\" + \":\" + str(Addition_result))\n",
        "print(\"Substraction_result\" + \":\" + str(Substraction_result))\n",
        "print(\"Multiplication_result\" + \":\" + str(Multiplication_result))\n",
        "print(\"Division_result\" + \":\" + str(Division_result))\n",
        "print(\"Floor_Division_result\" + \":\" + str(Floor_Division_result))\n",
        "print(\"Modulus_result\" + \":\" + str(Modulus_result))"
      ],
      "metadata": {
        "colab": {
          "base_uri": "https://localhost:8080/"
        },
        "id": "HVg4k6X9SEUx",
        "outputId": "cda81d04-8196-4686-a16a-004f80b5da77"
      },
      "execution_count": null,
      "outputs": [
        {
          "output_type": "stream",
          "name": "stdout",
          "text": [
            "Addition_result:8\n",
            "Substraction_result:6\n",
            "Multiplication_result:42\n",
            "Division_result:5.0\n",
            "Floor_Division_result:7\n",
            "Modulus_result:1\n"
          ]
        }
      ]
    },
    {
      "cell_type": "markdown",
      "source": [
        "# Loop\n",
        "**For Loop**: A for loop is used when you know beforehand how many times you want to repeat a certain block of code. It iterates over a sequence (such as a range of numbers) and executes the block of code for each iteration.\n",
        "\n",
        "**While Loop**: A while loop is used when you want to repeat a block of code as long as a certain condition is true. It repeatedly checks the condition before each iteration and stops when the condition becomes false.\n",
        "\n"
      ],
      "metadata": {
        "id": "dX7pleIzZ0Vs"
      }
    },
    {
      "cell_type": "code",
      "source": [
        "print(\"for loop\")\n",
        "for i in range(1, 6):\n",
        "    print(i)\n",
        "print(\"while loop\")\n",
        "i = 1\n",
        "while i <= 5:\n",
        "    print(i)\n",
        "    i += 1\n",
        "\n",
        "\n",
        "#another example\n",
        "\n",
        "fruits = [\"apple\", \"banana\", \"cherry\", \"date\"]\n",
        "\n",
        "for fruit in fruits:\n",
        "    print(fruit)\n"
      ],
      "metadata": {
        "colab": {
          "base_uri": "https://localhost:8080/"
        },
        "id": "cM7zDPuSSdZB",
        "outputId": "ebc233ad-d014-4d11-d74c-8768edfef61d"
      },
      "execution_count": null,
      "outputs": [
        {
          "output_type": "stream",
          "name": "stdout",
          "text": [
            "for loop\n",
            "1\n",
            "2\n",
            "3\n",
            "4\n",
            "5\n",
            "while loop\n",
            "1\n",
            "2\n",
            "3\n",
            "4\n",
            "5\n",
            "apple\n",
            "banana\n",
            "cherry\n",
            "date\n"
          ]
        }
      ]
    },
    {
      "cell_type": "markdown",
      "source": [
        "#commanly used Functions"
      ],
      "metadata": {
        "id": "EFtEzgqlajQM"
      }
    },
    {
      "cell_type": "code",
      "source": [
        "\n",
        "\n",
        "#Mathematical Functions:\n",
        "abs(): Returns the absolute value of a number.\n",
        "round(): Rounds a number to the nearest integer.\n",
        "min(): Returns the minimum value from a collection.\n",
        "max(): Returns the maximum value from a collection.\n",
        "sum(): Calculates the sum of a collection of numbers.\n",
        "\n",
        "#Type Conversion Functions:\n",
        "int(): Converts a value to an integer.\n",
        "float(): Converts a value to a floating-point number.\n",
        "str(): Converts a value to a string.\n",
        "\n",
        "#Input and Output Functions:\n",
        "input(): Reads user input from the console.\n",
        "print(): Writes output to the console.\n",
        "open(): Opens files for reading or writing.\n",
        "\n",
        "#List and Sequence Functions:\n",
        "len(): Returns the length of a sequence (e.g., a list or string).\n",
        "sorted(): Returns a sorted version of a sequence.\n",
        "enumerate(): Adds index numbers to elements in an iterable.\n",
        "zip(): Combines multiple iterables into tuples.\n",
        "\n",
        "#String Functions:\n",
        "str.upper(), str.lower(): Converts a string to uppercase or lowercase.\n",
        "str.strip(): Removes leading and trailing whitespace.\n",
        "str.split(): Splits a string into a list of substrings.\n",
        "\n",
        "#Data Structure Functions:\n",
        "list(), tuple(), set(), dict(): Create instances of these data structures.\n",
        "range(): Generates a sequence of numbers.\n",
        "len(): Returns the length of data structures.\n",
        "\n",
        "#File Operations Functions:\n",
        "open(): Opens files for reading or writing.\n",
        "read(), readline(), readlines(): Read file contents.\n",
        "write(), writelines(): Write to a file.\n",
        "\n",
        "#Error Handling Functions:\n",
        "try, except, finally: Used for exception handling.\n",
        "raise: Raises an exception explicitly.\n",
        "\n",
        "#Miscellaneous Functions:\n",
        "type(): Returns the data type of an object.\n",
        "id(): Returns the unique identifier for an object.\n",
        "callable(): Checks if an object can be called as a function."
      ],
      "metadata": {
        "id": "j79XXj5sUi36"
      },
      "execution_count": null,
      "outputs": []
    },
    {
      "cell_type": "markdown",
      "source": [
        "# BREAK\n",
        "We have a list of fruits.We want to find the \"cherry\" in the list. The for loop iterates through each fruit in the fruits list. Inside the loop, there's an if statement that checks if the current fruit is equal to the search_item (\"cherry\"). If the condition is met, the break statement is executed, terminating the loop prematurely. If the loop completes without finding \"cherry,\" the else block is executed to indicate that the item was not found."
      ],
      "metadata": {
        "id": "wqsLT4hJZpNj"
      }
    },
    {
      "cell_type": "code",
      "source": [
        "\n",
        "fruits = [\"apple\", \"banana\", \"cherry\", \"date\"]\n",
        "\n",
        "search_item = \"cherry\"\n",
        "\n",
        "for fruit in fruits:\n",
        "    if fruit == search_item:\n",
        "        print(f\"{search_item} found!\")\n",
        "        break\n",
        "else:\n",
        "    print(f\"{search_item} not found.\")\n",
        "\n"
      ],
      "metadata": {
        "id": "kvC6KMd-ZLDE",
        "colab": {
          "base_uri": "https://localhost:8080/"
        },
        "outputId": "b4da781c-c693-4c83-e82e-c9c965ff22d8"
      },
      "execution_count": null,
      "outputs": [
        {
          "output_type": "stream",
          "name": "stdout",
          "text": [
            "cherry found!\n"
          ]
        }
      ]
    },
    {
      "cell_type": "markdown",
      "source": [
        "#Continue\n"
      ],
      "metadata": {
        "id": "wdwGa-4zdIbk"
      }
    },
    {
      "cell_type": "code",
      "source": [
        "fruits = [\"apple\", \"banana\", \"cherry\", \"date\"]\n",
        "\n",
        "for fruit in fruits:\n",
        "    if fruit == \"banana\":\n",
        "        continue\n",
        "    print(f\"Processing: {fruit}\")"
      ],
      "metadata": {
        "id": "GS44cVoNa_A4",
        "colab": {
          "base_uri": "https://localhost:8080/"
        },
        "outputId": "587d96d3-0a20-4208-d4b6-bbaddbec8ddc"
      },
      "execution_count": null,
      "outputs": [
        {
          "output_type": "stream",
          "name": "stdout",
          "text": [
            "Processing: apple\n",
            "Processing: cherry\n",
            "Processing: date\n"
          ]
        }
      ]
    },
    {
      "cell_type": "markdown",
      "source": [
        "#Pass Keywords\n",
        " The pass statement is used as a placeholder inside the some_function function. It doesn't perform any action and is often used when you want to define a function or a code block that does nothing initially but intend to fill it in with actual code later.\n",
        "\n",
        " **For loop**\n",
        "\n",
        " Here,the pass statement is used within a loop. When i equals 2, the pass statement is executed, effectively skipping that iteration of the loop. For other values of i, it prints a message.\n",
        "\n",
        "\n"
      ],
      "metadata": {
        "id": "NSUknHUIdrBH"
      }
    },
    {
      "cell_type": "code",
      "source": [
        "def some_function():\n",
        "    pass  # This function does nothing\n",
        "\n",
        "for i in range(5):\n",
        "    if i == 2:\n",
        "        pass  # This iteration is skipped\n",
        "    else:\n",
        "        print(f\"Processing {i}\")\n",
        "\n",
        "class MyClass:\n",
        "    def my_method(self):\n",
        "        pass  # This method does nothing"
      ],
      "metadata": {
        "id": "VNy112HMd0S3",
        "colab": {
          "base_uri": "https://localhost:8080/"
        },
        "outputId": "612769c0-935a-4b44-c68b-85038b3a8c22"
      },
      "execution_count": null,
      "outputs": [
        {
          "output_type": "stream",
          "name": "stdout",
          "text": [
            "Processing 0\n",
            "Processing 1\n",
            "Processing 3\n",
            "Processing 4\n"
          ]
        }
      ]
    }
  ]
}